{
 "cells": [
  {
   "cell_type": "markdown",
   "id": "b86c11b7",
   "metadata": {},
   "source": [
    "# Pandas Data Indexing and Selection Coding Practice Questions"
   ]
  },
  {
   "cell_type": "markdown",
   "id": "179ecefc",
   "metadata": {},
   "source": [
    "1. Create a Pandas Series named `s` with indices as letters from 'a' to 'e' and values as integers from 1 to 5. Display the Series."
   ]
  },
  {
   "cell_type": "markdown",
   "id": "6b94e41f",
   "metadata": {},
   "source": [
    "2. Using the Series `s`, select the value at index 'c'."
   ]
  },
  {
   "cell_type": "markdown",
   "id": "0f1ca268",
   "metadata": {},
   "source": [
    "3. Using the Series `s`, select values at indices 'a', 'c', and 'e'."
   ]
  },
  {
   "cell_type": "markdown",
   "id": "bd4eae6a",
   "metadata": {},
   "source": [
    "4. Using the Series `s`, select all values greater than 2."
   ]
  },
  {
   "cell_type": "markdown",
   "id": "df78bd5b",
   "metadata": {},
   "source": [
    "5. Create a DataFrame named `df` with columns 'A', 'B', 'C' and values from 1 to 9. Display the DataFrame."
   ]
  },
  {
   "cell_type": "markdown",
   "id": "4b1902f3",
   "metadata": {},
   "source": [
    "6. Using the DataFrame `df`, select the value at row 1 and column 'B'."
   ]
  },
  {
   "cell_type": "markdown",
   "id": "9eea4c12",
   "metadata": {},
   "source": [
    "7. Using the DataFrame `df`, select the entire row with index 2."
   ]
  },
  {
   "cell_type": "markdown",
   "id": "a4bd26ff",
   "metadata": {},
   "source": [
    "8. Using the DataFrame `df`, select the entire column named 'C'."
   ]
  },
  {
   "cell_type": "markdown",
   "id": "ac3adf28",
   "metadata": {},
   "source": [
    "9. Using the DataFrame `df`, select values from column 'A' where values in column 'B' are greater than 2."
   ]
  },
  {
   "cell_type": "markdown",
   "id": "47d599f7",
   "metadata": {},
   "source": [
    "10. Using the DataFrame `df`, select values from columns 'A' and 'C' for rows with index 0 and 2."
   ]
  },
  {
   "cell_type": "markdown",
   "id": "f96c58e8",
   "metadata": {},
   "source": [
    "11. Using the DataFrame `df`, change the value at row 1 and column 'B' to 10."
   ]
  },
  {
   "cell_type": "markdown",
   "id": "47a73889",
   "metadata": {},
   "source": [
    "12. Using the DataFrame `df`, add a new column 'D' with values as the sum of columns 'A' and 'B'."
   ]
  },
  {
   "cell_type": "markdown",
   "id": "90c78cd3",
   "metadata": {},
   "source": [
    "13. Using the DataFrame `df`, drop the column named 'C'."
   ]
  },
  {
   "cell_type": "markdown",
   "id": "bd30f4cb",
   "metadata": {},
   "source": [
    "14. Using the DataFrame `df`, filter rows where the value in column 'A' is even."
   ]
  },
  {
   "cell_type": "markdown",
   "id": "9b6c4b1d",
   "metadata": {},
   "source": [
    "15. Using the DataFrame `df`, set the index of the DataFrame to be the values in column 'A'."
   ]
  },
  {
   "cell_type": "markdown",
   "id": "1aa26761",
   "metadata": {},
   "source": [
    "16. Using the DataFrame `df`, reset the index of the DataFrame."
   ]
  },
  {
   "cell_type": "markdown",
   "id": "e896cccc",
   "metadata": {},
   "source": [
    "17. Using the DataFrame `df`, select all rows where the index is greater than 2."
   ]
  },
  {
   "cell_type": "markdown",
   "id": "1920dae7",
   "metadata": {},
   "source": [
    "18. Using the DataFrame `df`, select all rows where the values in column 'B' are in the list [2, 4, 6]."
   ]
  },
  {
   "cell_type": "markdown",
   "id": "af37c7d5",
   "metadata": {},
   "source": [
    "19. Using the DataFrame `df`, use the `.loc` method to select values from column 'A' for rows with index 1 and 3."
   ]
  },
  {
   "cell_type": "markdown",
   "id": "4547121b",
   "metadata": {},
   "source": [
    "20. Using the DataFrame `df`, use the `.iloc` method to select values from the first column for the first and third rows."
   ]
  },
  {
   "cell_type": "code",
   "execution_count": null,
   "id": "c06c46cb",
   "metadata": {},
   "outputs": [],
   "source": [
    "import pandas as pd\n",
    "import numpy as np"
   ]
  },
  {
   "cell_type": "code",
   "execution_count": null,
   "id": "7898e8ac",
   "metadata": {},
   "outputs": [],
   "source": [
    "# Solution to Question 1\n",
    "s = pd.Series([1, 2, 3, 4, 5], index=['a', 'b', 'c', 'd', 'e'])\n",
    "s"
   ]
  },
  {
   "cell_type": "code",
   "execution_count": null,
   "id": "1cc9828f",
   "metadata": {},
   "outputs": [],
   "source": [
    "# Solution to Question 2\n",
    "s['c']"
   ]
  },
  {
   "cell_type": "code",
   "execution_count": null,
   "id": "bc5cd68a",
   "metadata": {},
   "outputs": [],
   "source": [
    "# Solution to Question 3\n",
    "s[['a', 'c', 'e']]"
   ]
  },
  {
   "cell_type": "code",
   "execution_count": null,
   "id": "88f84282",
   "metadata": {},
   "outputs": [],
   "source": [
    "# Solution to Question 4\n",
    "s[s > 2]"
   ]
  },
  {
   "cell_type": "code",
   "execution_count": null,
   "id": "4ea846ab",
   "metadata": {},
   "outputs": [],
   "source": [
    "# Solution to Question 5\n",
    "df = pd.DataFrame({'A': [1, 4, 7], 'B': [2, 5, 8], 'C': [3, 6, 9]})\n",
    "df"
   ]
  },
  {
   "cell_type": "code",
   "execution_count": null,
   "id": "ffb9c707",
   "metadata": {},
   "outputs": [],
   "source": [
    "# Solution to Question 6\n",
    "df.loc[1, 'B']"
   ]
  },
  {
   "cell_type": "code",
   "execution_count": null,
   "id": "a5770aef",
   "metadata": {},
   "outputs": [],
   "source": [
    "# Solution to Question 7\n",
    "df.loc[2]"
   ]
  },
  {
   "cell_type": "code",
   "execution_count": null,
   "id": "d098cf9f",
   "metadata": {},
   "outputs": [],
   "source": [
    "# Solution to Question 8\n",
    "df['C']"
   ]
  },
  {
   "cell_type": "code",
   "execution_count": null,
   "id": "6b5e81e6",
   "metadata": {},
   "outputs": [],
   "source": [
    "# Solution to Question 9\n",
    "df['A'][df['B'] > 2]"
   ]
  },
  {
   "cell_type": "code",
   "execution_count": null,
   "id": "8566977c",
   "metadata": {},
   "outputs": [],
   "source": [
    "# Solution to Question 10\n",
    "df.loc[[0, 2], ['A', 'C']]"
   ]
  },
  {
   "cell_type": "code",
   "execution_count": null,
   "id": "498391a5",
   "metadata": {},
   "outputs": [],
   "source": [
    "# Solution to Question 11\n",
    "df.loc[1, 'B'] = 10\n",
    "df"
   ]
  },
  {
   "cell_type": "code",
   "execution_count": null,
   "id": "0af152b0",
   "metadata": {},
   "outputs": [],
   "source": [
    "# Solution to Question 12\n",
    "df['D'] = df['A'] + df['B']\n",
    "df"
   ]
  },
  {
   "cell_type": "code",
   "execution_count": null,
   "id": "e6152c50",
   "metadata": {},
   "outputs": [],
   "source": [
    "# Solution to Question 13\n",
    "df.drop(columns='C', inplace=True)\n",
    "df"
   ]
  },
  {
   "cell_type": "code",
   "execution_count": null,
   "id": "77914d03",
   "metadata": {},
   "outputs": [],
   "source": [
    "# Solution to Question 14\n",
    "df[df['A'] % 2 == 0]"
   ]
  },
  {
   "cell_type": "code",
   "execution_count": null,
   "id": "1e2af283",
   "metadata": {},
   "outputs": [],
   "source": [
    "# Solution to Question 15\n",
    "df.set_index('A', inplace=True)\n",
    "df"
   ]
  },
  {
   "cell_type": "code",
   "execution_count": null,
   "id": "9f4db35e",
   "metadata": {},
   "outputs": [],
   "source": [
    "# Solution to Question 16\n",
    "df.reset_index(inplace=True)\n",
    "df"
   ]
  },
  {
   "cell_type": "code",
   "execution_count": null,
   "id": "e8417819",
   "metadata": {},
   "outputs": [],
   "source": [
    "# Solution to Question 17\n",
    "df[df.index > 2]"
   ]
  },
  {
   "cell_type": "code",
   "execution_count": null,
   "id": "60d97f0e",
   "metadata": {},
   "outputs": [],
   "source": [
    "# Solution to Question 18\n",
    "df[df['B'].isin([2, 4, 6])]"
   ]
  },
  {
   "cell_type": "code",
   "execution_count": null,
   "id": "2868c5df",
   "metadata": {},
   "outputs": [],
   "source": [
    "# Solution to Question 19\n",
    "df.loc[[1, 3], 'A']"
   ]
  },
  {
   "cell_type": "code",
   "execution_count": null,
   "id": "6f19026f",
   "metadata": {},
   "outputs": [],
   "source": [
    "# Solution to Question 20\n",
    "df.iloc[[0, 2], 0]"
   ]
  }
 ],
 "metadata": {
  "kernelspec": {
   "display_name": "Python 3 (ipykernel)",
   "language": "python",
   "name": "python3"
  },
  "language_info": {
   "codemirror_mode": {
    "name": "ipython",
    "version": 3
   },
   "file_extension": ".py",
   "mimetype": "text/x-python",
   "name": "python",
   "nbconvert_exporter": "python",
   "pygments_lexer": "ipython3",
   "version": "3.9.12"
  }
 },
 "nbformat": 4,
 "nbformat_minor": 5
}
