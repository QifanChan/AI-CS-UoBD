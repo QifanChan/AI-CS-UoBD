{
 "cells": [
  {
   "cell_type": "markdown",
   "id": "0baa6e74",
   "metadata": {},
   "source": [
    "# Pandas Ufuncs (Universal Functions) Coding Practice Questions"
   ]
  },
  {
   "cell_type": "markdown",
   "id": "1f57898b",
   "metadata": {},
   "source": [
    "1. Create a Pandas Series named `s1` with values `[1, 2, 3, 4, 5]` and another Series named `s2` with values `[5, 4, 3, 2, 1]`. Display both Series."
   ]
  },
  {
   "cell_type": "markdown",
   "id": "ac2c0628",
   "metadata": {},
   "source": [
    "2. Compute the element-wise addition of `s1` and `s2`."
   ]
  },
  {
   "cell_type": "markdown",
   "id": "997703cd",
   "metadata": {},
   "source": [
    "3. Compute the element-wise subtraction of `s2` from `s1`."
   ]
  },
  {
   "cell_type": "markdown",
   "id": "a006792d",
   "metadata": {},
   "source": [
    "4. Compute the element-wise multiplication of `s1` and `s2`."
   ]
  },
  {
   "cell_type": "markdown",
   "id": "ec29a794",
   "metadata": {},
   "source": [
    "5. Compute the element-wise division of `s1` by `s2`."
   ]
  },
  {
   "cell_type": "markdown",
   "id": "85169b19",
   "metadata": {},
   "source": [
    "6. Compute the element-wise power of `s1` raised to `s2`."
   ]
  },
  {
   "cell_type": "markdown",
   "id": "e7312817",
   "metadata": {},
   "source": [
    "7. Compute the exponential of all elements in `s1`."
   ]
  },
  {
   "cell_type": "markdown",
   "id": "53470aa6",
   "metadata": {},
   "source": [
    "8. Compute the natural logarithm of all elements in `s1`."
   ]
  },
  {
   "cell_type": "markdown",
   "id": "620dca6f",
   "metadata": {},
   "source": [
    "9. Compute the base-10 logarithm of all elements in `s1`."
   ]
  },
  {
   "cell_type": "markdown",
   "id": "0eac26a5",
   "metadata": {},
   "source": [
    "10. Compute the square root of all elements in `s1`."
   ]
  },
  {
   "cell_type": "markdown",
   "id": "3721fcc6",
   "metadata": {},
   "source": [
    "11. Compute the sine of all elements in `s1`."
   ]
  },
  {
   "cell_type": "markdown",
   "id": "61aad810",
   "metadata": {},
   "source": [
    "12. Compute the cosine of all elements in `s1`."
   ]
  },
  {
   "cell_type": "markdown",
   "id": "c84a9591",
   "metadata": {},
   "source": [
    "13. Compute the tangent of all elements in `s1`."
   ]
  },
  {
   "cell_type": "markdown",
   "id": "24655a67",
   "metadata": {},
   "source": [
    "14. Create a DataFrame `df` with values `[[1, 2], [3, 4], [5, 6]]` and columns `['A', 'B']`. Display the DataFrame."
   ]
  },
  {
   "cell_type": "markdown",
   "id": "a51b4378",
   "metadata": {},
   "source": [
    "15. Compute the element-wise addition of column 'A' and column 'B' in `df`."
   ]
  },
  {
   "cell_type": "markdown",
   "id": "55f25b72",
   "metadata": {},
   "source": [
    "16. Compute the element-wise square of column 'A' in `df`."
   ]
  },
  {
   "cell_type": "markdown",
   "id": "b4fe9ae3",
   "metadata": {},
   "source": [
    "17. Compute the element-wise square root of column 'B' in `df`."
   ]
  },
  {
   "cell_type": "markdown",
   "id": "2727a70d",
   "metadata": {},
   "source": [
    "18. Compute the element-wise exponential of column 'A' in `df`."
   ]
  },
  {
   "cell_type": "markdown",
   "id": "977940b2",
   "metadata": {},
   "source": [
    "19. Compute the element-wise natural logarithm of column 'B' in `df`."
   ]
  },
  {
   "cell_type": "markdown",
   "id": "f13123ad",
   "metadata": {},
   "source": [
    "20. Compute the element-wise base-10 logarithm of column 'A' in `df`."
   ]
  },
  {
   "cell_type": "markdown",
   "id": "cb2b4335",
   "metadata": {},
   "source": [
    "# Answers to Pandas Ufuncs (Universal Functions) Coding Practice Questions"
   ]
  },
  {
   "cell_type": "code",
   "execution_count": null,
   "id": "83b60d51",
   "metadata": {},
   "outputs": [],
   "source": [
    "import pandas as pd\n",
    "import numpy as np"
   ]
  },
  {
   "cell_type": "code",
   "execution_count": null,
   "id": "c3a0837f",
   "metadata": {},
   "outputs": [],
   "source": [
    "# Answer to Question 1\n",
    "s1 = pd.Series([1, 2, 3, 4, 5])\n",
    "s2 = pd.Series([5, 4, 3, 2, 1])\n",
    "s1, s2"
   ]
  },
  {
   "cell_type": "code",
   "execution_count": null,
   "id": "89eafc31",
   "metadata": {},
   "outputs": [],
   "source": [
    "# Answer to Question 2\n",
    "s1 + s2"
   ]
  },
  {
   "cell_type": "code",
   "execution_count": null,
   "id": "cc9179a2",
   "metadata": {},
   "outputs": [],
   "source": [
    "# Answer to Question 3\n",
    "s1 - s2"
   ]
  },
  {
   "cell_type": "code",
   "execution_count": null,
   "id": "04181278",
   "metadata": {},
   "outputs": [],
   "source": [
    "# Answer to Question 4\n",
    "s1 * s2"
   ]
  },
  {
   "cell_type": "code",
   "execution_count": null,
   "id": "ee3ea8cb",
   "metadata": {},
   "outputs": [],
   "source": [
    "# Answer to Question 5\n",
    "s1 / s2"
   ]
  },
  {
   "cell_type": "code",
   "execution_count": null,
   "id": "b76618d7",
   "metadata": {},
   "outputs": [],
   "source": [
    "# Answer to Question 6\n",
    "s1 ** s2"
   ]
  },
  {
   "cell_type": "code",
   "execution_count": null,
   "id": "9f63ee4e",
   "metadata": {},
   "outputs": [],
   "source": [
    "# Answer to Question 7\n",
    "np.exp(s1)"
   ]
  },
  {
   "cell_type": "code",
   "execution_count": null,
   "id": "116cbbc0",
   "metadata": {},
   "outputs": [],
   "source": [
    "# Answer to Question 8\n",
    "np.log(s1)"
   ]
  },
  {
   "cell_type": "code",
   "execution_count": null,
   "id": "adc4f6ab",
   "metadata": {},
   "outputs": [],
   "source": [
    "# Answer to Question 9\n",
    "np.log10(s1)"
   ]
  },
  {
   "cell_type": "code",
   "execution_count": null,
   "id": "a78c01de",
   "metadata": {},
   "outputs": [],
   "source": [
    "# Answer to Question 10\n",
    "np.sqrt(s1)"
   ]
  },
  {
   "cell_type": "code",
   "execution_count": null,
   "id": "b68fa553",
   "metadata": {},
   "outputs": [],
   "source": [
    "# Answer to Question 11\n",
    "np.sin(s1)"
   ]
  },
  {
   "cell_type": "code",
   "execution_count": null,
   "id": "803ffba2",
   "metadata": {},
   "outputs": [],
   "source": [
    "# Answer to Question 12\n",
    "np.cos(s1)"
   ]
  },
  {
   "cell_type": "code",
   "execution_count": null,
   "id": "e036bf19",
   "metadata": {},
   "outputs": [],
   "source": [
    "# Answer to Question 13\n",
    "np.tan(s1)"
   ]
  },
  {
   "cell_type": "code",
   "execution_count": null,
   "id": "44ff8084",
   "metadata": {},
   "outputs": [],
   "source": [
    "# Answer to Question 14\n",
    "df = pd.DataFrame({'A': [1, 2, 3], 'B': [4, 5, 6]})\n",
    "df"
   ]
  },
  {
   "cell_type": "code",
   "execution_count": null,
   "id": "05f159ac",
   "metadata": {},
   "outputs": [],
   "source": [
    "# Answer to Question 15\n",
    "df['A'] + df['B']"
   ]
  },
  {
   "cell_type": "code",
   "execution_count": null,
   "id": "bac4610f",
   "metadata": {},
   "outputs": [],
   "source": [
    "# Answer to Question 16\n",
    "df['A'] ** 2"
   ]
  },
  {
   "cell_type": "code",
   "execution_count": null,
   "id": "a140d0dd",
   "metadata": {},
   "outputs": [],
   "source": [
    "# Answer to Question 17\n",
    "np.sqrt(df['B'])"
   ]
  },
  {
   "cell_type": "code",
   "execution_count": null,
   "id": "458c1e53",
   "metadata": {},
   "outputs": [],
   "source": [
    "# Answer to Question 18\n",
    "np.exp(df['A'])"
   ]
  },
  {
   "cell_type": "code",
   "execution_count": null,
   "id": "361dab77",
   "metadata": {},
   "outputs": [],
   "source": [
    "# Answer to Question 19\n",
    "np.log(df['B'])"
   ]
  },
  {
   "cell_type": "code",
   "execution_count": null,
   "id": "cba950f1",
   "metadata": {},
   "outputs": [],
   "source": [
    "# Answer to Question 20\n",
    "np.log10(df['A'])"
   ]
  }
 ],
 "metadata": {
  "kernelspec": {
   "display_name": "Python 3 (ipykernel)",
   "language": "python",
   "name": "python3"
  },
  "language_info": {
   "codemirror_mode": {
    "name": "ipython",
    "version": 3
   },
   "file_extension": ".py",
   "mimetype": "text/x-python",
   "name": "python",
   "nbconvert_exporter": "python",
   "pygments_lexer": "ipython3",
   "version": "3.9.12"
  }
 },
 "nbformat": 4,
 "nbformat_minor": 5
}
