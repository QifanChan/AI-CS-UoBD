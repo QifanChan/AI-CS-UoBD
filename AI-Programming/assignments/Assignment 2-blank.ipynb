{
 "cells": [
  {
   "cell_type": "markdown",
   "id": "ea0c1ece",
   "metadata": {},
   "source": [
    "# Assignment 2\n",
    "\n",
    "Please read the following instructions carefully:\n",
    "\n",
    "This assignment will test your knowledge of machine learning, data visualisation, and computer vision techniques in Python. This will primarily focus on scikit-learn, seaborn/matplotlib and skimage/opencv, and how to program using these packages and as such you should use the appropriate functionality provided by the packages. You may also use Numpy, panda, etc. where appropriate for some questions. Do not use any other external packages other than these.\n",
    "\n",
    "In the below questions you will generally need to complete the code in the cell below the question and output the required results, charts or graphs. \n",
    "\n",
    "Questions 1-5 are each worth 5 marks."
   ]
  },
  {
   "cell_type": "markdown",
   "id": "48ea6a2f",
   "metadata": {},
   "source": [
    "#### 1. Load/download and normalize the FashionMNIST training and test datasets using the instructions shown here: https://github.com/zalandoresearch/fashion-mnist#usage.\n",
    "#### Please download both the training and testing sets, and load the training images, training labels, testing images, and testing labels as 'x_train', 'y_train', 'x_test', and 'y_test, correspondingly.\n",
    "    \n",
    "#### And show some training images by visualising a few images from the training set."
   ]
  },
  {
   "cell_type": "code",
   "execution_count": null,
   "id": "c25492f7",
   "metadata": {},
   "outputs": [],
   "source": []
  },
  {
   "cell_type": "markdown",
   "metadata": {},
   "source": [
    "#### 2. Please show 5 images from the training set in a row (similar to what you have done above), but this time also show the corresponding category name (e.g. T-shirt, Dress, Bag, etc., detailed definition of the categories is list on the dataset link above) on top of each image as its title.\n",
    "\n"
   ]
  },
  {
   "cell_type": "code",
   "execution_count": null,
   "metadata": {},
   "outputs": [],
   "source": []
  },
  {
   "cell_type": "markdown",
   "id": "e4c6bc67",
   "metadata": {},
   "source": [
    "#### 3. Apply a support vector classifier on the above (training) data. And use the learned/trained classifier to predict the category value on the test set.\n",
    "#### The parameters to be used in the SVM classifier are: linear kernel, regularization of 0.025, and all others by default.\n",
    "\n",
    "#### If you find the training over the whole training set takes too much time (e.g. > 10 minutes), you may only use the first 10,000 samples of the training set instead.\n",
    "\n",
    "#### Please also show 5 examples from the test set, with the title being \"predicted category name (ground-truth category name)\", e.g. \"Shirt (Shirt)\"."
   ]
  },
  {
   "cell_type": "code",
   "execution_count": null,
   "id": "8d5461e3",
   "metadata": {},
   "outputs": [],
   "source": []
  },
  {
   "cell_type": "markdown",
   "id": "f0a03a67",
   "metadata": {},
   "source": [
    "#### 4. Similar to above, but use a neural network (i.e. MLP classifier) for the classification task, and training it for 1000 maximum numebr of iterations, with the L2 penalty of 1.\n",
    "#### First use the same 10,000 training samples, then change the number of training samples to the whole training set. Think about the difference between this classifier and the above SVM classifier.\n",
    "\n",
    "#### Please also show 5 samples from the test set (same as above), and also print the text report of the main classification metrics. Think about how does it differ from the results in the above SVM classification model (i.e. you need to print out the classification metrics for the above SVM model to compare)."
   ]
  },
  {
   "cell_type": "code",
   "execution_count": null,
   "id": "5c69de0d",
   "metadata": {},
   "outputs": [],
   "source": []
  },
  {
   "cell_type": "markdown",
   "id": "e406dd46",
   "metadata": {},
   "source": [
    "#### 5. Please apply a Sobel edge detector on the above dataset images (both training and testing), then train the same MLP classifier as above (on the whole new trianing set), show the prediction results of 5 samples from the (new) test set, with the \"prediction (ground-truth label)\" as title for each sample, and also reprot the main classification matrics. \n",
    "\n",
    "#### Similarly, apply a bilateral filter (neighborhood diameter 9 and both sigma for color and space set to 85) to the original dataset images (both training and testing), then train the same MLP classifier, show the prediction, and the metrics, same as above. Compare the difference between the original-image-based classification, edge-based classification, and this filtered-image-based classification."
   ]
  },
  {
   "cell_type": "code",
   "execution_count": null,
   "id": "4c1f970f",
   "metadata": {},
   "outputs": [],
   "source": []
  }
 ],
 "metadata": {
  "kernelspec": {
   "display_name": "Python 3 (ipykernel)",
   "language": "python",
   "name": "python3"
  },
  "language_info": {
   "codemirror_mode": {
    "name": "ipython",
    "version": 3
   },
   "file_extension": ".py",
   "mimetype": "text/x-python",
   "name": "python",
   "nbconvert_exporter": "python",
   "pygments_lexer": "ipython3",
   "version": "3.9.12"
  }
 },
 "nbformat": 4,
 "nbformat_minor": 5
}
