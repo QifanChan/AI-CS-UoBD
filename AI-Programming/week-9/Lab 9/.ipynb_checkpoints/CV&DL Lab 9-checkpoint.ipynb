{
 "cells": [
  {
   "cell_type": "markdown",
   "id": "acee16ae",
   "metadata": {},
   "source": [
    "# Computer Vision and Deep Learning Lab Exercise 9\n"
   ]
  },
  {
   "cell_type": "markdown",
   "id": "d2e92106",
   "metadata": {},
   "source": [
    "Welcome to the Computer Vision and Deep Learning lab sheet. Work through this at your own pace and get help from the teaching assistants if you're stuck!"
   ]
  },
  {
   "cell_type": "markdown",
   "id": "093eefbd",
   "metadata": {},
   "source": [
    "To begin with , ensure you run the first cell to call the `initialise.py` module, then for each question you can query the\n",
    "answer or an hint with `hint(n)` or `answer(n)` for `n` question number. Please, please don't look at the answers before giving the questions a good go!  Some questions will take longer than others to complete.\n",
    "\n",
    "If things aren't working check that along with this notebook you have the initialise.py, generator.py in the same folder, as well as the source/ directory. Last, but not least, check that the requirements are fulfilled, and if not run `!pip install mdutils` as this may possibly be missing.\n",
    "\n",
    "Also, don't forget to import...."
   ]
  },
  {
   "cell_type": "code",
   "execution_count": null,
   "id": "d4f6528e",
   "metadata": {},
   "outputs": [],
   "source": [
    "!pip install mdutils\n",
    "import mdutils\n",
    "%run initialise.py"
   ]
  },
  {
   "cell_type": "markdown",
   "id": "33bfa7af",
   "metadata": {},
   "source": [
    "## Computer Vision"
   ]
  },
  {
   "cell_type": "markdown",
   "id": "dca11dad",
   "metadata": {},
   "source": [
    "#### 1. Read the image `logo.jpg` and convert it into a grayscale image, using scikit-image.\n"
   ]
  },
  {
   "cell_type": "code",
   "execution_count": null,
   "id": "45dc840c",
   "metadata": {},
   "outputs": [],
   "source": []
  },
  {
   "cell_type": "markdown",
   "id": "88d385b1",
   "metadata": {},
   "source": [
    "#### 2. Do the same thing as in the above 1, but use OpenCV."
   ]
  },
  {
   "cell_type": "code",
   "execution_count": null,
   "id": "e1c3af08",
   "metadata": {},
   "outputs": [],
   "source": []
  },
  {
   "cell_type": "markdown",
   "id": "7134f56b",
   "metadata": {},
   "source": [
    "#### 3. Calculate the mean pixel value of the above grayscale image and print it out.\n",
    "#### Then display the original colour image and the converted grayscale image together using subplot."
   ]
  },
  {
   "cell_type": "code",
   "execution_count": null,
   "id": "b5367674",
   "metadata": {},
   "outputs": [],
   "source": []
  },
  {
   "cell_type": "markdown",
   "id": "9f109b1e",
   "metadata": {},
   "source": [
    "#### 4. Blur the above colour image using the four OpenCV blurring methods (i.e. average blurring, median blurring, Gaussian blurring, and bilateral bluurring) and display their results."
   ]
  },
  {
   "cell_type": "code",
   "execution_count": null,
   "id": "a9943ea7",
   "metadata": {},
   "outputs": [],
   "source": []
  },
  {
   "cell_type": "markdown",
   "id": "d2a13191",
   "metadata": {},
   "source": [
    "#### 5. Save the blurred images as `logo-{method name}.png`."
   ]
  },
  {
   "cell_type": "code",
   "execution_count": null,
   "id": "5a22b63f",
   "metadata": {},
   "outputs": [],
   "source": []
  },
  {
   "cell_type": "markdown",
   "id": "bf83dd9f",
   "metadata": {},
   "source": [
    "#### 6. Detect edges using the Canny edge detector and display the result, using scikit-image."
   ]
  },
  {
   "cell_type": "code",
   "execution_count": null,
   "id": "22572220",
   "metadata": {},
   "outputs": [],
   "source": []
  },
  {
   "cell_type": "markdown",
   "id": "fdc57184",
   "metadata": {},
   "source": [
    "#### 7. Do the same edge detection as in 6, but using OpenCV instead."
   ]
  },
  {
   "cell_type": "code",
   "execution_count": null,
   "id": "23a29167",
   "metadata": {},
   "outputs": [],
   "source": []
  },
  {
   "cell_type": "markdown",
   "id": "62c78e49",
   "metadata": {},
   "source": [
    "# Deep Learning (PyTorch)"
   ]
  },
  {
   "cell_type": "markdown",
   "id": "f58b2840",
   "metadata": {},
   "source": [
    "#### 8. Load the [FashionMNIST](https://github.com/zalandoresearch/fashion-mnist) dataset as Tensor and define the corresponding training and test data."
   ]
  },
  {
   "cell_type": "code",
   "execution_count": null,
   "id": "481525cf",
   "metadata": {},
   "outputs": [],
   "source": []
  },
  {
   "cell_type": "markdown",
   "id": "61fb647b",
   "metadata": {},
   "source": [
    "#### 9. From the above loaded data, create training and testing data loaders, with a batch size of 64."
   ]
  },
  {
   "cell_type": "code",
   "execution_count": null,
   "id": "56bb935f",
   "metadata": {},
   "outputs": [],
   "source": []
  }
 ],
 "metadata": {
  "kernelspec": {
   "display_name": "Python 3 (ipykernel)",
   "language": "python",
   "name": "python3"
  },
  "language_info": {
   "codemirror_mode": {
    "name": "ipython",
    "version": 3
   },
   "file_extension": ".py",
   "mimetype": "text/x-python",
   "name": "python",
   "nbconvert_exporter": "python",
   "pygments_lexer": "ipython3",
   "version": "3.9.12"
  }
 },
 "nbformat": 4,
 "nbformat_minor": 5
}
