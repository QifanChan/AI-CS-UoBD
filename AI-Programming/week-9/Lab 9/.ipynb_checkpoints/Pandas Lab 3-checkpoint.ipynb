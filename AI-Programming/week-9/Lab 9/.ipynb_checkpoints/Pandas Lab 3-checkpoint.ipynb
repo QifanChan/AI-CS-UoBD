{
 "cells": [
  {
   "cell_type": "markdown",
   "id": "acee16ae",
   "metadata": {},
   "source": [
    "# Pandas Lab Exercise 3"
   ]
  },
  {
   "cell_type": "markdown",
   "id": "d2e92106",
   "metadata": {},
   "source": [
    "Welcome to the first Pandas lab sheet. Work through this at your own pace and get help from the teaching assistants if you're stuck!"
   ]
  },
  {
   "cell_type": "markdown",
   "id": "093eefbd",
   "metadata": {},
   "source": [
    "To begin with , ensure you run the first cell to call the `initialise.py` module, then for each question you can query the\n",
    "answer or an hint with `hint(n)` or `answer(n)` for `n` question number. Please, please don't look at the answers before giving the questions a good go!  Some questions will take longer than others to complete.\n",
    "\n",
    "If things aren't working check that along with this notebook you have the initialise.py, generator.py in the same folder, as well as the source/ directory. Last, but not least, check that the requirements are fulfilled, and if not run `!pip install mdutils` as this may possibly be missing.\n",
    "\n",
    "Also, don't forget to import...."
   ]
  },
  {
   "cell_type": "code",
   "execution_count": null,
   "id": "d4f6528e",
   "metadata": {},
   "outputs": [],
   "source": [
    "!pip install mdutils\n",
    "import mdutils\n",
    "%run initialise.py"
   ]
  },
  {
   "cell_type": "markdown",
   "id": "1c853a03",
   "metadata": {},
   "source": [
    "#### 1. Create a one-dimensional array-like object (ds) containing an array of data."
   ]
  },
  {
   "cell_type": "code",
   "execution_count": null,
   "id": "9f38ddd7",
   "metadata": {},
   "outputs": [],
   "source": []
  },
  {
   "cell_type": "markdown",
   "id": "88d385b1",
   "metadata": {},
   "source": [
    "#### 2. Convert Dictionary1 to a Pandas series.\n",
    "Dictionary1 = {'A': 1, 'B': 2, 'C': 3, 'D': 4, 'E': 5}"
   ]
  },
  {
   "cell_type": "code",
   "execution_count": null,
   "id": "e1c3af08",
   "metadata": {},
   "outputs": [],
   "source": []
  },
  {
   "cell_type": "markdown",
   "id": "7134f56b",
   "metadata": {},
   "source": [
    "#### 3. Access the Pandas' series object in Q2 by displaying the fifth index and the sixth assigned new index value."
   ]
  },
  {
   "cell_type": "code",
   "execution_count": null,
   "id": "b5367674",
   "metadata": {},
   "outputs": [],
   "source": []
  },
  {
   "cell_type": "markdown",
   "id": "c805c754",
   "metadata": {},
   "source": [
    "#### 4. Create a Pandas series with a scalar data to fill 5 indices of String type"
   ]
  },
  {
   "cell_type": "code",
   "execution_count": null,
   "id": "5a22b63f",
   "metadata": {},
   "outputs": [],
   "source": []
  },
  {
   "cell_type": "markdown",
   "id": "bb28d232",
   "metadata": {},
   "source": [
    "#### 5. Create a Pandas series with a dictionary data by setting the index explicitly to display the 4th and 3rd indices, respectively.  "
   ]
  },
  {
   "cell_type": "code",
   "execution_count": null,
   "id": "e9c1b90c",
   "metadata": {},
   "outputs": [],
   "source": []
  },
  {
   "cell_type": "markdown",
   "id": "bf83dd9f",
   "metadata": {},
   "source": [
    "#### 6. Create a DataFrame from a specified dictionary data, as shown below, which has the index labels:\n",
    "\n",
    "Quiz_Marks = {'st_name': ['A', 'B', 'C', 'D', 'E'],\n",
    "'st_mark': [100, 90, 80, 70, 60]}\n",
    "labels = ['st1', 'st2', 'st3', 'st4', 'st5']"
   ]
  },
  {
   "cell_type": "code",
   "execution_count": null,
   "id": "22572220",
   "metadata": {},
   "outputs": [],
   "source": []
  },
  {
   "cell_type": "markdown",
   "id": "fdc57184",
   "metadata": {},
   "source": [
    "#### 7. Based on Quiz_Marks DataFrame of Q6; select the 'st_mark' column from the Quiz_Marks DataFrame."
   ]
  },
  {
   "cell_type": "code",
   "execution_count": null,
   "id": "23a29167",
   "metadata": {},
   "outputs": [],
   "source": []
  },
  {
   "cell_type": "markdown",
   "id": "f58b2840",
   "metadata": {},
   "source": [
    "#### 8. Based on Quiz_Marks DataFrame of Q6; select the the first and the last marks of st_mark column."
   ]
  },
  {
   "cell_type": "code",
   "execution_count": null,
   "id": "481525cf",
   "metadata": {},
   "outputs": [],
   "source": []
  },
  {
   "cell_type": "markdown",
   "id": "61fb647b",
   "metadata": {},
   "source": [
    "#### 9. Create a DataFrame object from a list of dictionaries where the second column data are the square values of the first column data (multiples of 3 up to 10)"
   ]
  },
  {
   "cell_type": "code",
   "execution_count": null,
   "id": "56bb935f",
   "metadata": {},
   "outputs": [],
   "source": []
  },
  {
   "cell_type": "markdown",
   "id": "8fee0db1",
   "metadata": {},
   "source": [
    "#### 10. Based on the below series:\n",
    "\n",
    "data = pd.Series([100, 200, 300, 400],\n",
    "                 index=['A', 'B', 'C', 'D'])\n",
    "\n",
    "Is slicing with an explicit index (i.e., data['A':'C']) display the same number of index as when slicing with an implicit index (i.e., data[0:2])?"
   ]
  },
  {
   "cell_type": "code",
   "execution_count": null,
   "id": "0c7ea3e3",
   "metadata": {},
   "outputs": [],
   "source": []
  },
  {
   "cell_type": "markdown",
   "id": "9c8f95cf",
   "metadata": {},
   "source": [
    "#### 11.Based on the below two series, print the items which are not common of two given series.\n",
    "\n",
    "series1 = pd.Series([1, 2, 3, 4, 5])\n",
    "\n",
    "series2 = pd.Series([1, 3, 4, 9, 10])"
   ]
  },
  {
   "cell_type": "code",
   "execution_count": null,
   "id": "3132b791",
   "metadata": {},
   "outputs": [],
   "source": []
  },
  {
   "cell_type": "markdown",
   "id": "6956e71e",
   "metadata": {},
   "source": [
    "#### 12. Count the NaN values in all columns of the below DataFrame, then replace all the NaN values with Zero's.\n",
    "\n",
    "df = pd.DataFrame([[1,      np.nan, 2],\n",
    "                   [2,      3,      5],\n",
    "                   [np.nan, 4,      6]])"
   ]
  }
 ],
 "metadata": {
  "kernelspec": {
   "display_name": "Python 3 (ipykernel)",
   "language": "python",
   "name": "python3"
  },
  "language_info": {
   "codemirror_mode": {
    "name": "ipython",
    "version": 3
   },
   "file_extension": ".py",
   "mimetype": "text/x-python",
   "name": "python",
   "nbconvert_exporter": "python",
   "pygments_lexer": "ipython3",
   "version": "3.9.12"
  }
 },
 "nbformat": 4,
 "nbformat_minor": 5
}
