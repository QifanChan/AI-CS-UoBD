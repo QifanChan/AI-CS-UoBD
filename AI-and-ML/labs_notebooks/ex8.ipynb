{
 "cells": [
  {
   "cell_type": "code",
   "execution_count": 25,
   "metadata": {},
   "outputs": [],
   "source": [
    "import logic"
   ]
  },
  {
   "cell_type": "markdown",
   "metadata": {},
   "source": [
    "Exercise 8: (Section 8) Evaluating logical propositions and model-checking"
   ]
  },
  {
   "cell_type": "markdown",
   "metadata": {},
   "source": [
    "Evaluate a logical proposition "
   ]
  },
  {
   "cell_type": "code",
   "execution_count": 26,
   "metadata": {},
   "outputs": [
    {
     "name": "stdout",
     "output_type": "stream",
     "text": [
      "Evaluate proposition: P = (True ∨ False) ∧ ¬True = False\n"
     ]
    }
   ],
   "source": [
    "P = (True or False) and not True\n",
    "print(f'Evaluate proposition: P = (True ∨ False) ∧ ¬True = {P}')"
   ]
  },
  {
   "cell_type": "markdown",
   "metadata": {},
   "source": [
    "Implication P ⇒ Q as a Boolean function"
   ]
  },
  {
   "cell_type": "code",
   "execution_count": 27,
   "metadata": {},
   "outputs": [],
   "source": [
    "def implies(p,q):\n",
    "    return not (p and not q)"
   ]
  },
  {
   "cell_type": "markdown",
   "metadata": {},
   "source": [
    "Evaluate a simple proposition involving implication"
   ]
  },
  {
   "cell_type": "code",
   "execution_count": 28,
   "metadata": {},
   "outputs": [
    {
     "name": "stdout",
     "output_type": "stream",
     "text": [
      "P = ¬R ∧ ¬D ⇒ ¬H = True\n"
     ]
    }
   ],
   "source": [
    "R = True\n",
    "D = True\n",
    "H = True\n",
    "P = implies(not R and not D, not H)\n",
    "print(f'P = ¬R ∧ ¬D ⇒ ¬H = {P}')"
   ]
  },
  {
   "cell_type": "markdown",
   "metadata": {},
   "source": [
    "Evaluate a more complex proposition"
   ]
  },
  {
   "cell_type": "code",
   "execution_count": 29,
   "metadata": {},
   "outputs": [
    {
     "name": "stdout",
     "output_type": "stream",
     "text": [
      "Evaluate proposition: Q = ¬A ∨ ¬B ∧ (D ∧ E ⇒ B) = True\n"
     ]
    }
   ],
   "source": [
    "A = False\n",
    "B = True\n",
    "C = False\n",
    "D = False\n",
    "E = True\n",
    "Q = not A or not B and implies(D and E, B)\n",
    "print(f'Evaluate proposition: Q = ¬A ∨ ¬B ∧ (D ∧ E ⇒ B) = {Q}')"
   ]
  },
  {
   "cell_type": "markdown",
   "metadata": {},
   "source": [
    "Simple model-checking example: Parkinson's diagnosis"
   ]
  },
  {
   "cell_type": "markdown",
   "metadata": {},
   "source": [
    "Implement knowledge base KB=((C∧O)⇒P) and query Y=(¬O⇒¬P)"
   ]
  },
  {
   "cell_type": "code",
   "execution_count": 30,
   "metadata": {},
   "outputs": [],
   "source": [
    "def KB(C,O,P):\n",
    "    return implies(C and O, P)\n",
    "def Y(C,O,P):\n",
    "    return implies(not O, not P)"
   ]
  },
  {
   "cell_type": "markdown",
   "metadata": {},
   "source": [
    "Model-check entailment KB ⊨ ¬P12 (Algorithm 8.1)"
   ]
  },
  {
   "cell_type": "code",
   "execution_count": 31,
   "metadata": {},
   "outputs": [
    {
     "name": "stdout",
     "output_type": "stream",
     "text": [
      "Model-check entailment: (KB ⊨ Y) is False\n"
     ]
    }
   ],
   "source": [
    "models, modelKBi, modelYi, entails = logic.model_check(KB,Y)\n",
    "print(f'Model-check entailment: (KB ⊨ Y) is {entails}')"
   ]
  },
  {
   "cell_type": "markdown",
   "metadata": {},
   "source": [
    "Challenge: model-check Wumpus world problem in section 7.4.4, R&N"
   ]
  },
  {
   "cell_type": "code",
   "execution_count": 37,
   "metadata": {},
   "outputs": [
    {
     "name": "stdout",
     "output_type": "stream",
     "text": [
      "Evaluate proposition: KB(C=True,O=True,P=True) = True\n",
      "Evaluate proposition: Y(C=True,O=True,P=True) = True\n"
     ]
    }
   ],
   "source": [
    "age = 61\n",
    "# C =‘Satisfying diagnostic criteria’\n",
    "# O = ‘Over age 60’\n",
    "# P = ‘Suspect Parkinson’s disease’\n",
    "if age > 60:\n",
    "    O = True\n",
    "else:\n",
    "    O = False\n",
    "\n",
    "C = True\n",
    "P = True\n",
    "P = True\n",
    "\n",
    "print(f'Evaluate proposition: KB(C={C},O={O},P={P}) = {KB(C,O,P)}')\n",
    "print(f'Evaluate proposition: Y(C={C},O={O},P={P}) = {Y(C,O,P)}')"
   ]
  },
  {
   "cell_type": "code",
   "execution_count": null,
   "metadata": {},
   "outputs": [],
   "source": []
  }
 ],
 "metadata": {
  "kernelspec": {
   "display_name": "Python 3 (ipykernel)",
   "language": "python",
   "name": "python3"
  },
  "language_info": {
   "codemirror_mode": {
    "name": "ipython",
    "version": 3
   },
   "file_extension": ".py",
   "mimetype": "text/x-python",
   "name": "python",
   "nbconvert_exporter": "python",
   "pygments_lexer": "ipython3",
   "version": "3.12.0"
  }
 },
 "nbformat": 4,
 "nbformat_minor": 2
}
