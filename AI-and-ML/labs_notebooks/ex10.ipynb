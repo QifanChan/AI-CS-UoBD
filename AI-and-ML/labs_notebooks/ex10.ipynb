{
 "cells": [
  {
   "cell_type": "code",
   "execution_count": 1,
   "metadata": {},
   "outputs": [],
   "source": [
    "import numpy as np\n",
    "import cluster"
   ]
  },
  {
   "cell_type": "markdown",
   "metadata": {},
   "source": [
    "Exercise 10: (Section 10) K-means clustering, Algorithm 10.1"
   ]
  },
  {
   "cell_type": "code",
   "execution_count": 2,
   "metadata": {},
   "outputs": [],
   "source": [
    "def kmeans(x,K,σ):\n",
    "\n",
    "    # Start with random cluster means\n",
    "    μ = np.random.normal(0.0,σ,K)\n",
    "\n",
    "    # Initialization\n",
    "    n = 0\n",
    "    while True:\n",
    "\n",
    "        # Update configuration\n",
    "        Xnew = cluster.config(x,μ)\n",
    "\n",
    "        # Update centroids\n",
    "        μnew = cluster.means(x,Xnew)\n",
    "\n",
    "        # Update centroids\n",
    "        Fnew = cluster.Fobj(x,μnew,Xnew)\n",
    "        print(f'\\nIteration n={n}')\n",
    "        print(f'Configuration X=\\n{Xnew.T}')\n",
    "        print(f'Centroids μ={μnew}')\n",
    "        print(f'Objective F={Fnew}')\n",
    "\n",
    "        # Convergence check\n",
    "        if (n > 0) and np.array_equal(Xnew, X):\n",
    "            return Xnew, μnew\n",
    "        \n",
    "        # Iteration\n",
    "        n = n + 1\n",
    "        X = Xnew\n",
    "        μ = μnew"
   ]
  },
  {
   "cell_type": "code",
   "execution_count": 3,
   "metadata": {},
   "outputs": [
    {
     "name": "stdout",
     "output_type": "stream",
     "text": [
      "Input data: x=[ 0.1 -0.3  2.6  1.1  2.3 -0.8 -6.2 -7.8 -1.5 -0.4]\n"
     ]
    }
   ],
   "source": [
    "x = np.array([0.1,-0.3,2.6,1.1,2.3,-0.8,-6.2,-7.8,-1.5,-0.4])\n",
    "print(f'Input data: x={x}')"
   ]
  },
  {
   "cell_type": "code",
   "execution_count": 13,
   "metadata": {},
   "outputs": [
    {
     "name": "stdout",
     "output_type": "stream",
     "text": [
      "\n",
      "Iteration n=0\n",
      "Configuration X=\n",
      "[[0. 0. 0. 0. 0. 1. 1. 1. 1. 0.]\n",
      " [1. 0. 1. 1. 1. 0. 0. 0. 0. 0.]\n",
      " [0. 1. 0. 0. 0. 0. 0. 0. 0. 1.]]\n",
      "Centroids μ=[-4.075  1.525 -0.35 ]\n",
      "Objective F=39.72\n",
      "\n",
      "Iteration n=1\n",
      "Configuration X=\n",
      "[[0. 0. 0. 0. 0. 0. 1. 1. 0. 0.]\n",
      " [0. 0. 1. 1. 1. 0. 0. 0. 0. 0.]\n",
      " [1. 1. 0. 0. 0. 1. 0. 0. 1. 1.]]\n",
      "Centroids μ=[-7.    2.   -0.58]\n",
      "Objective F=4.007999999999999\n",
      "\n",
      "Iteration n=2\n",
      "Configuration X=\n",
      "[[0. 0. 0. 0. 0. 0. 1. 1. 0. 0.]\n",
      " [0. 0. 1. 1. 1. 0. 0. 0. 0. 0.]\n",
      " [1. 1. 0. 0. 0. 1. 0. 0. 1. 1.]]\n",
      "Centroids μ=[-7.    2.   -0.58]\n",
      "Objective F=4.007999999999999\n",
      "\n",
      "K-means clustering result: X*=\n",
      "[[0. 0. 0. 0. 0. 0. 1. 1. 0. 0.]\n",
      " [0. 0. 1. 1. 1. 0. 0. 0. 0. 0.]\n",
      " [1. 1. 0. 0. 0. 1. 0. 0. 1. 1.]], μ*=[-7.    2.   -0.58], F*=4.007999999999999\n"
     ]
    }
   ],
   "source": [
    "K = 3\n",
    "σ = 2.0\n",
    "Xopt, μopt = kmeans(x,K,σ)\n",
    "Fopt = cluster.Fobj(x,μopt,Xopt)\n",
    "print(f'\\nK-means clustering result: X*=\\n{Xopt.T}, μ*={μopt}, F*={Fopt}')"
   ]
  },
  {
   "cell_type": "markdown",
   "metadata": {},
   "source": [
    "Challenge: run multiple times with different initial conditions, select optimal clustering"
   ]
  },
  {
   "cell_type": "code",
   "execution_count": 14,
   "metadata": {},
   "outputs": [
    {
     "name": "stdout",
     "output_type": "stream",
     "text": [
      "\n",
      "Iteration n=0\n",
      "Configuration X=\n",
      "[[0. 1. 0. 0. 0. 0. 0. 0. 0. 1.]\n",
      " [0. 0. 1. 1. 1. 0. 0. 0. 0. 0.]\n",
      " [0. 0. 0. 0. 0. 1. 1. 1. 1. 0.]\n",
      " [1. 0. 0. 0. 0. 0. 0. 0. 0. 0.]]\n",
      "Centroids μ=[-0.35   2.    -4.075  0.1  ]\n",
      "Objective F=37.0125\n",
      "\n",
      "Iteration n=1\n",
      "Configuration X=\n",
      "[[0. 1. 0. 0. 0. 1. 0. 0. 1. 1.]\n",
      " [0. 0. 1. 1. 1. 0. 0. 0. 0. 0.]\n",
      " [0. 0. 0. 0. 0. 0. 1. 1. 0. 0.]\n",
      " [1. 0. 0. 0. 0. 0. 0. 0. 0. 0.]]\n",
      "Centroids μ=[-0.75  2.   -7.    0.1 ]\n",
      "Objective F=3.4299999999999993\n",
      "\n",
      "Iteration n=2\n",
      "Configuration X=\n",
      "[[0. 0. 0. 0. 0. 1. 0. 0. 1. 1.]\n",
      " [0. 0. 1. 1. 1. 0. 0. 0. 0. 0.]\n",
      " [0. 0. 0. 0. 0. 0. 1. 1. 0. 0.]\n",
      " [1. 1. 0. 0. 0. 0. 0. 0. 0. 0.]]\n",
      "Centroids μ=[-0.9  2.  -7.  -0.1]\n",
      "Objective F=3.2399999999999993\n",
      "\n",
      "Iteration n=3\n",
      "Configuration X=\n",
      "[[0. 0. 0. 0. 0. 1. 0. 0. 1. 0.]\n",
      " [0. 0. 1. 1. 1. 0. 0. 0. 0. 0.]\n",
      " [0. 0. 0. 0. 0. 0. 1. 1. 0. 0.]\n",
      " [1. 1. 0. 0. 0. 0. 0. 0. 0. 1.]]\n",
      "Centroids μ=[-1.15  2.   -7.   -0.2 ]\n",
      "Objective F=2.9249999999999994\n",
      "\n",
      "Iteration n=4\n",
      "Configuration X=\n",
      "[[0. 0. 0. 0. 0. 1. 0. 0. 1. 0.]\n",
      " [0. 0. 1. 1. 1. 0. 0. 0. 0. 0.]\n",
      " [0. 0. 0. 0. 0. 0. 1. 1. 0. 0.]\n",
      " [1. 1. 0. 0. 0. 0. 0. 0. 0. 1.]]\n",
      "Centroids μ=[-1.15  2.   -7.   -0.2 ]\n",
      "Objective F=2.9249999999999994\n",
      "\n",
      "K-means clustering result: X*=\n",
      "[[0. 0. 0. 0. 0. 1. 0. 0. 1. 0.]\n",
      " [0. 0. 1. 1. 1. 0. 0. 0. 0. 0.]\n",
      " [0. 0. 0. 0. 0. 0. 1. 1. 0. 0.]\n",
      " [1. 1. 0. 0. 0. 0. 0. 0. 0. 1.]], μ*=[-1.15  2.   -7.   -0.2 ], F*=2.9249999999999994\n"
     ]
    }
   ],
   "source": [
    "K = 4\n",
    "σ = 2.0\n",
    "Xopt, μopt = kmeans(x,K,σ)\n",
    "Fopt = cluster.Fobj(x,μopt,Xopt)\n",
    "print(f'\\nK-means clustering result: X*=\\n{Xopt.T}, μ*={μopt}, F*={Fopt}')"
   ]
  },
  {
   "cell_type": "code",
   "execution_count": 9,
   "metadata": {},
   "outputs": [
    {
     "name": "stdout",
     "output_type": "stream",
     "text": [
      "\n",
      "Iteration n=0\n",
      "Configuration X=\n",
      "[[0. 0. 0. 0. 0. 0. 1. 1. 1. 0.]\n",
      " [1. 1. 1. 1. 1. 1. 0. 0. 0. 1.]]\n",
      "Centroids μ=[-5.16666667  0.65714286]\n",
      "Objective F=32.58380952380953\n",
      "\n",
      "Iteration n=1\n",
      "Configuration X=\n",
      "[[0. 0. 0. 0. 0. 0. 1. 1. 0. 0.]\n",
      " [1. 1. 1. 1. 1. 1. 0. 0. 1. 1.]]\n",
      "Centroids μ=[-7.      0.3875]\n",
      "Objective F=16.48875\n",
      "\n",
      "Iteration n=2\n",
      "Configuration X=\n",
      "[[0. 0. 0. 0. 0. 0. 1. 1. 0. 0.]\n",
      " [1. 1. 1. 1. 1. 1. 0. 0. 1. 1.]]\n",
      "Centroids μ=[-7.      0.3875]\n",
      "Objective F=16.48875\n",
      "\n",
      "K-means clustering result: X*=\n",
      "[[0. 0. 0. 0. 0. 0. 1. 1. 0. 0.]\n",
      " [1. 1. 1. 1. 1. 1. 0. 0. 1. 1.]], μ*=[-7.      0.3875], F*=16.48875\n"
     ]
    }
   ],
   "source": [
    "K = 2\n",
    "σ = 2.0\n",
    "Xopt, μopt = kmeans(x,K,σ)\n",
    "Fopt = cluster.Fobj(x,μopt,Xopt)\n",
    "print(f'\\nK-means clustering result: X*=\\n{Xopt.T}, μ*={μopt}, F*={Fopt}')"
   ]
  },
  {
   "cell_type": "code",
   "execution_count": 15,
   "metadata": {},
   "outputs": [
    {
     "name": "stdout",
     "output_type": "stream",
     "text": [
      "\n",
      "Iteration n=0\n",
      "Configuration X=\n",
      "[[0. 0. 0. 0. 0. 0. 0. 0. 1. 0.]\n",
      " [0. 0. 0. 0. 0. 1. 0. 0. 0. 0.]\n",
      " [0. 0. 1. 1. 1. 0. 0. 0. 0. 0.]\n",
      " [0. 0. 0. 0. 0. 0. 1. 1. 0. 0.]\n",
      " [1. 1. 0. 0. 0. 0. 0. 0. 0. 1.]]\n",
      "Centroids μ=[-1.5 -0.8  2.  -7.  -0.2]\n",
      "Objective F=2.6799999999999993\n",
      "\n",
      "Iteration n=1\n",
      "Configuration X=\n",
      "[[0. 0. 0. 0. 0. 0. 0. 0. 1. 0.]\n",
      " [0. 0. 0. 0. 0. 1. 0. 0. 0. 0.]\n",
      " [0. 0. 1. 1. 1. 0. 0. 0. 0. 0.]\n",
      " [0. 0. 0. 0. 0. 0. 1. 1. 0. 0.]\n",
      " [1. 1. 0. 0. 0. 0. 0. 0. 0. 1.]]\n",
      "Centroids μ=[-1.5 -0.8  2.  -7.  -0.2]\n",
      "Objective F=2.6799999999999993\n",
      "\n",
      "K-means clustering result: X*=\n",
      "[[0. 0. 0. 0. 0. 0. 0. 0. 1. 0.]\n",
      " [0. 0. 0. 0. 0. 1. 0. 0. 0. 0.]\n",
      " [0. 0. 1. 1. 1. 0. 0. 0. 0. 0.]\n",
      " [0. 0. 0. 0. 0. 0. 1. 1. 0. 0.]\n",
      " [1. 1. 0. 0. 0. 0. 0. 0. 0. 1.]], μ*=[-1.5 -0.8  2.  -7.  -0.2], F*=2.6799999999999993\n"
     ]
    }
   ],
   "source": [
    "K = 5\n",
    "σ = 2.0\n",
    "Xopt, μopt = kmeans(x,K,σ)\n",
    "Fopt = cluster.Fobj(x,μopt,Xopt)\n",
    "print(f'\\nK-means clustering result: X*=\\n{Xopt.T}, μ*={μopt}, F*={Fopt}')"
   ]
  },
  {
   "cell_type": "code",
   "execution_count": 11,
   "metadata": {},
   "outputs": [
    {
     "name": "stdout",
     "output_type": "stream",
     "text": [
      "\n",
      "Iteration n=0\n",
      "Configuration X=\n",
      "[[1. 1. 1. 1. 1. 1. 1. 1. 1. 1.]]\n",
      "Centroids μ=[-1.09]\n",
      "Objective F=103.80900000000001\n",
      "\n",
      "Iteration n=1\n",
      "Configuration X=\n",
      "[[1. 1. 1. 1. 1. 1. 1. 1. 1. 1.]]\n",
      "Centroids μ=[-1.09]\n",
      "Objective F=103.80900000000001\n",
      "\n",
      "K-means clustering result: X*=\n",
      "[[1. 1. 1. 1. 1. 1. 1. 1. 1. 1.]], μ*=[-1.09], F*=103.80900000000001\n"
     ]
    }
   ],
   "source": [
    "K = 1\n",
    "σ = 2.0\n",
    "Xopt, μopt = kmeans(x,K,σ)\n",
    "Fopt = cluster.Fobj(x,μopt,Xopt)\n",
    "print(f'\\nK-means clustering result: X*=\\n{Xopt.T}, μ*={μopt}, F*={Fopt}')"
   ]
  },
  {
   "cell_type": "code",
   "execution_count": 17,
   "metadata": {},
   "outputs": [
    {
     "name": "stdout",
     "output_type": "stream",
     "text": [
      "\n",
      "Iteration n=0\n",
      "Configuration X=\n",
      "[[0. 1. 0. 0. 0. 0. 0. 0. 0. 1.]\n",
      " [0. 0. 0. 0. 0. 0. 1. 1. 0. 0.]\n",
      " [1. 0. 0. 0. 0. 0. 0. 0. 0. 0.]\n",
      " [0. 0. 0. 0. 0. 0. 0. 0. 1. 0.]\n",
      " [0. 0. 0. 0. 0. 1. 0. 0. 0. 0.]\n",
      " [0. 0. 1. 1. 1. 0. 0. 0. 0. 0.]]\n",
      "Centroids μ=[-0.35 -7.    0.1  -1.5  -0.8   2.  ]\n",
      "Objective F=2.544999999999999\n",
      "\n",
      "Iteration n=1\n",
      "Configuration X=\n",
      "[[0. 1. 0. 0. 0. 0. 0. 0. 0. 1.]\n",
      " [0. 0. 0. 0. 0. 0. 1. 1. 0. 0.]\n",
      " [1. 0. 0. 0. 0. 0. 0. 0. 0. 0.]\n",
      " [0. 0. 0. 0. 0. 0. 0. 0. 1. 0.]\n",
      " [0. 0. 0. 0. 0. 1. 0. 0. 0. 0.]\n",
      " [0. 0. 1. 1. 1. 0. 0. 0. 0. 0.]]\n",
      "Centroids μ=[-0.35 -7.    0.1  -1.5  -0.8   2.  ]\n",
      "Objective F=2.544999999999999\n",
      "\n",
      "K-means clustering result: X*=\n",
      "[[0. 1. 0. 0. 0. 0. 0. 0. 0. 1.]\n",
      " [0. 0. 0. 0. 0. 0. 1. 1. 0. 0.]\n",
      " [1. 0. 0. 0. 0. 0. 0. 0. 0. 0.]\n",
      " [0. 0. 0. 0. 0. 0. 0. 0. 1. 0.]\n",
      " [0. 0. 0. 0. 0. 1. 0. 0. 0. 0.]\n",
      " [0. 0. 1. 1. 1. 0. 0. 0. 0. 0.]], μ*=[-0.35 -7.    0.1  -1.5  -0.8   2.  ], F*=2.544999999999999\n"
     ]
    }
   ],
   "source": [
    "K = 6\n",
    "σ = 2.0\n",
    "Xopt, μopt = kmeans(x,K,σ)\n",
    "Fopt = cluster.Fobj(x,μopt,Xopt)\n",
    "print(f'\\nK-means clustering result: X*=\\n{Xopt.T}, μ*={μopt}, F*={Fopt}')"
   ]
  },
  {
   "cell_type": "code",
   "execution_count": null,
   "metadata": {},
   "outputs": [],
   "source": []
  }
 ],
 "metadata": {
  "kernelspec": {
   "display_name": "Python 3 (ipykernel)",
   "language": "python",
   "name": "python3"
  },
  "language_info": {
   "codemirror_mode": {
    "name": "ipython",
    "version": 3
   },
   "file_extension": ".py",
   "mimetype": "text/x-python",
   "name": "python",
   "nbconvert_exporter": "python",
   "pygments_lexer": "ipython3",
   "version": "3.12.0"
  }
 },
 "nbformat": 4,
 "nbformat_minor": 2
}
