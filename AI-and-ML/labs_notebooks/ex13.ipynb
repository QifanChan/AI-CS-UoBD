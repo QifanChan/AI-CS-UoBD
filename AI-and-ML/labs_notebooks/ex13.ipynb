{
 "cells": [
  {
   "cell_type": "code",
   "execution_count": 1,
   "metadata": {},
   "outputs": [],
   "source": [
    "import math"
   ]
  },
  {
   "cell_type": "markdown",
   "metadata": {},
   "source": [
    "Exercise 13: (Section 13) Deep logic networks"
   ]
  },
  {
   "cell_type": "markdown",
   "metadata": {},
   "source": [
    "Convert Boolean value to logic net representation"
   ]
  },
  {
   "cell_type": "code",
   "execution_count": 2,
   "metadata": {},
   "outputs": [],
   "source": [
    "def booltonet(x):\n",
    "    return (1.0 if x else -1.0)"
   ]
  },
  {
   "cell_type": "markdown",
   "metadata": {},
   "source": [
    "Convert logic net representation to Boolean"
   ]
  },
  {
   "cell_type": "code",
   "execution_count": 3,
   "metadata": {},
   "outputs": [],
   "source": [
    "def nettobool(x):\n",
    "    return (x==1)"
   ]
  },
  {
   "cell_type": "markdown",
   "metadata": {},
   "source": [
    "Sign function"
   ]
  },
  {
   "cell_type": "code",
   "execution_count": 4,
   "metadata": {},
   "outputs": [],
   "source": [
    "def sign(x):\n",
    "    '''\n",
    "    If x is positive, it returns 1.\n",
    "    If x is negative, it returns -1.\n",
    "    If x is zero, it returns 0.\n",
    "    '''\n",
    "    return math.copysign(1,x)"
   ]
  },
  {
   "cell_type": "markdown",
   "metadata": {},
   "source": [
    "Define logic nets<br>\n",
    "y = x₁ ∧ x₂"
   ]
  },
  {
   "cell_type": "code",
   "execution_count": 5,
   "metadata": {},
   "outputs": [],
   "source": [
    "def fnand(x1,x2):\n",
    "    return sign(x1+x2-1)"
   ]
  },
  {
   "cell_type": "markdown",
   "metadata": {},
   "source": [
    "y = x₁ ∨ x₂"
   ]
  },
  {
   "cell_type": "code",
   "execution_count": 6,
   "metadata": {},
   "outputs": [],
   "source": [
    "def fnor(x1,x2):\n",
    "    return sign(x1+x2+1)"
   ]
  },
  {
   "cell_type": "markdown",
   "metadata": {},
   "source": [
    "y = ¬x"
   ]
  },
  {
   "cell_type": "code",
   "execution_count": 7,
   "metadata": {},
   "outputs": [],
   "source": [
    "def fnnot(x):\n",
    "    return sign(-x)"
   ]
  },
  {
   "cell_type": "markdown",
   "metadata": {},
   "source": [
    "Evaluate a proposition using a deep logic net<br>\n",
    "y = ¬(x₁ ∧ x₂) ∨ (x₁ ∧ ¬x₃)"
   ]
  },
  {
   "cell_type": "code",
   "execution_count": 8,
   "metadata": {},
   "outputs": [],
   "source": [
    "def fny(x1,x2,x3):\n",
    "    x1n = booltonet(x1)\n",
    "    x2n = booltonet(x2)\n",
    "    x3n = booltonet(x3)\n",
    "    y = fnor(fnnot(fnand(x1n,x2n)), fnand(x1n,fnnot(x3n)))\n",
    "    return nettobool(y)"
   ]
  },
  {
   "cell_type": "code",
   "execution_count": 9,
   "metadata": {},
   "outputs": [
    {
     "name": "stdout",
     "output_type": "stream",
     "text": [
      "Evaluate proposition: y = ¬(F ∧ T) ∨ (F ∧ ¬T) = True\n"
     ]
    }
   ],
   "source": [
    "y = fny(False,True,True)\n",
    "print(f'Evaluate proposition: y = ¬(F ∧ T) ∨ (F ∧ ¬T) = {y}')"
   ]
  },
  {
   "cell_type": "markdown",
   "metadata": {},
   "source": [
    "Challenge: Create deep logic net implementing 1-digit binary addition, i.e. 0+0=0, 0+1=1, 1+0=1, 1+1=10"
   ]
  },
  {
   "cell_type": "code",
   "execution_count": 22,
   "metadata": {},
   "outputs": [
    {
     "name": "stdout",
     "output_type": "stream",
     "text": [
      "sum_bit=0, carry_bit=0\n",
      "0 + 0 = 0\n",
      "sum_bit=1, carry_bit=0\n",
      "0 + 1 = 1\n",
      "sum_bit=1, carry_bit=0\n",
      "1 + 0 = 1\n",
      "sum_bit=0, carry_bit=1\n",
      "1 + 1 = 10\n"
     ]
    }
   ],
   "source": [
    "def binary_addition(a, b):\n",
    "    # XOR gate to compute the sum bit\n",
    "    sum_bit = a ^ b\n",
    "    \n",
    "    # AND gate to compute the carry bit\n",
    "    carry_bit = a & b\n",
    "    print(f\"sum_bit={sum_bit}, carry_bit={carry_bit}\")\n",
    "    return sum_bit, carry_bit\n",
    "\n",
    "# Testing the function with sample inputs\n",
    "a = [0, 0, 1, 1]\n",
    "b = [0, 1, 0, 1]\n",
    "\n",
    "for i in range(len(a)):\n",
    "    sum_bit, carry_bit = binary_addition(a[i], b[i])\n",
    "    if carry_bit == 0:\n",
    "        print(f\"{a[i]} + {b[i]} = {sum_bit}\")\n",
    "    else:\n",
    "        print(f\"{a[i]} + {b[i]} = {carry_bit}{sum_bit}\")"
   ]
  },
  {
   "cell_type": "code",
   "execution_count": null,
   "metadata": {},
   "outputs": [],
   "source": []
  }
 ],
 "metadata": {
  "kernelspec": {
   "display_name": "Python 3 (ipykernel)",
   "language": "python",
   "name": "python3"
  },
  "language_info": {
   "codemirror_mode": {
    "name": "ipython",
    "version": 3
   },
   "file_extension": ".py",
   "mimetype": "text/x-python",
   "name": "python",
   "nbconvert_exporter": "python",
   "pygments_lexer": "ipython3",
   "version": "3.12.0"
  }
 },
 "nbformat": 4,
 "nbformat_minor": 4
}
