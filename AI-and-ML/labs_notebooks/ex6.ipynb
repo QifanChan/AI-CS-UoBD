{
 "cells": [
  {
   "cell_type": "code",
   "execution_count": 1,
   "metadata": {},
   "outputs": [],
   "source": [
    "import greedy\n",
    "import random"
   ]
  },
  {
   "cell_type": "markdown",
   "metadata": {},
   "source": [
    "Exercise 6: (Section 6) Greedy K-clustering using Algorithm 6.1 and 1-Hamming distance of<br>\n",
    "cluster assignments"
   ]
  },
  {
   "cell_type": "code",
   "execution_count": 10,
   "metadata": {},
   "outputs": [],
   "source": [
    "def cluster(x,K,R):\n",
    "\n",
    "    # Step 1. Initialization\n",
    "\n",
    "    # Start with random cluster assignments\n",
    "    N = len(x)\n",
    "    print(N)\n",
    "    X = []\n",
    "    for n in range(N):\n",
    "        X = X + [random.randint(0,K-1)]\n",
    "\n",
    "    # Fix cluster assignments, so make sure there are K cluster in X\n",
    "    X = greedy.cluster_fix(X,K)\n",
    "\n",
    "    n = 0\n",
    "    while (n <= R):\n",
    "\n",
    "        # Step 2. Neighbourhood search and termination check\n",
    "\n",
    "        # Compute current cluster objective\n",
    "        μ = greedy.cluster_means(x,X,K)\n",
    "        F = greedy.cluster_obj(x,X,μ,K)\n",
    "        print(f'Iteration n={n}: assignments X={X}, objective F={F}')\n",
    "\n",
    "        # Find (1-Hamming) neighbourhood of cluster assignments\n",
    "        Xnbr = greedy.cluster_nbr(X,K)\n",
    "\n",
    "        # Evaluate objective value of all cluster assignments in neighbourhood\n",
    "        Fnbr = greedy.cluster_nbrobj(x,Xnbr,K)\n",
    "\n",
    "        # Select optimal assignment X in neighbourhood\n",
    "        iopt,Fopt = greedy.mintuple(Fnbr)\n",
    "\n",
    "        # Check termination\n",
    "        if Fopt >= F:\n",
    "            break\n",
    "\n",
    "        # Update assignments\n",
    "        X = Xnbr[iopt]\n",
    "\n",
    "        # Step 3. Iterate\n",
    "        n = n + 1\n",
    "    \n",
    "    return X,F"
   ]
  },
  {
   "cell_type": "code",
   "execution_count": 11,
   "metadata": {},
   "outputs": [
    {
     "name": "stdout",
     "output_type": "stream",
     "text": [
      "Input data: x=[0.1, -0.3, 2.6, 1.1, 2.3, -0.8, -6.2, -7.8, -1.5, -0.4]\n",
      "10\n",
      "Iteration n=0: assignments X=[2, 1, 1, 0, 1, 2, 0, 1, 0, 1], objective F=106.50646333333333\n",
      "Iteration n=1: assignments X=[2, 1, 1, 0, 1, 2, 0, 2, 0, 1], objective F=92.3143287037037\n",
      "Iteration n=2: assignments X=[2, 1, 1, 1, 1, 2, 0, 2, 0, 1], objective F=78.05414037037036\n",
      "Iteration n=3: assignments X=[2, 1, 1, 1, 1, 2, 0, 2, 1, 1], objective F=63.135\n",
      "Iteration n=4: assignments X=[2, 1, 1, 1, 1, 2, 0, 0, 1, 1], objective F=41.27087962962963\n",
      "Iteration n=5: assignments X=[2, 1, 1, 1, 1, 2, 0, 0, 2, 1], objective F=39.271223703703704\n",
      "Iteration n=6: assignments X=[2, 1, 1, 1, 1, 2, 0, 0, 2, 2], objective F=37.897031250000005\n",
      "Iteration n=7: assignments X=[2, 2, 1, 1, 1, 2, 0, 0, 2, 2], objective F=34.917813333333335\n",
      "Iteration n=8: assignments X=[2, 2, 1, 2, 1, 2, 0, 0, 2, 2], objective F=33.02125\n",
      "Greedy K-clustering: X*=[2, 2, 1, 2, 1, 2, 0, 0, 2, 2], F*=33.02125\n"
     ]
    }
   ],
   "source": [
    "x = [0.1,-0.3,2.6,1.1,2.3,-0.8,-6.2,-7.8,-1.5,-0.4]\n",
    "print(f'Input data: x={x}')\n",
    "K = 3\n",
    "R = 20\n",
    "Xopt,Fopt = cluster(x,K,R)\n",
    "print(f'Greedy K-clustering: X*={Xopt}, F*={Fopt}')"
   ]
  },
  {
   "cell_type": "code",
   "execution_count": null,
   "metadata": {},
   "outputs": [],
   "source": []
  }
 ],
 "metadata": {
  "kernelspec": {
   "display_name": "Python 3 (ipykernel)",
   "language": "python",
   "name": "python3"
  },
  "language_info": {
   "codemirror_mode": {
    "name": "ipython",
    "version": 3
   },
   "file_extension": ".py",
   "mimetype": "text/x-python",
   "name": "python",
   "nbconvert_exporter": "python",
   "pygments_lexer": "ipython3",
   "version": "3.12.0"
  }
 },
 "nbformat": 4,
 "nbformat_minor": 2
}
