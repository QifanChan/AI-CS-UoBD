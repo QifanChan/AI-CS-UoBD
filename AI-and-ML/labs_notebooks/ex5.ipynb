{
 "cells": [
  {
   "cell_type": "markdown",
   "metadata": {},
   "source": [
    "Exercise 5: (Section 5) Bellman recursion for maximum list segment sum"
   ]
  },
  {
   "cell_type": "code",
   "execution_count": 4,
   "metadata": {},
   "outputs": [],
   "source": [
    "def bellman(x):\n",
    "\n",
    "    # Initialization\n",
    "    S = (0,0)\n",
    "    X = ([[]],[[]])\n",
    "\n",
    "    # Iteration\n",
    "    for xn in x:\n",
    "        if 0 > (xn + S[1]):\n",
    "            Stails = 0\n",
    "            Xtails = [[]]\n",
    "        else:\n",
    "            Stails = xn + S[1]\n",
    "            Xtails = [Xp + [xn] for Xp in X[1]]\n",
    "        \n",
    "        if Stails > S[0]:\n",
    "            X = (Xtails, Xtails)\n",
    "            S = (Stails, Stails)\n",
    "        else:\n",
    "            X = (X[0], Xtails)\n",
    "            S = (S[0], Stails)\n",
    "    return (X,S)"
   ]
  },
  {
   "cell_type": "code",
   "execution_count": 5,
   "metadata": {},
   "outputs": [
    {
     "name": "stdout",
     "output_type": "stream",
     "text": [
      "Bellman recursion optimal sum S=(11.7, 10.999999999999998), configuration X=([[2.6, 9.1]], [[2.6, 9.1, -0.8, 0.1]])\n"
     ]
    }
   ],
   "source": [
    "x = [0.1,-0.3,2.6,9.1,-0.8, 0.1]\n",
    "Xopt,Sopt = bellman(x)\n",
    "print(f'Bellman recursion optimal sum S={Sopt}, configuration X={Xopt}')"
   ]
  },
  {
   "cell_type": "markdown",
   "metadata": {},
   "source": [
    "Challenge: Bellman recursion for maximum list segment product"
   ]
  },
  {
   "cell_type": "code",
   "execution_count": 8,
   "metadata": {},
   "outputs": [
    {
     "name": "stdout",
     "output_type": "stream",
     "text": [
      "Bellman recursion optimal product P=(23.66, 1), configuration X=([[2.6, 9.1]], [[]])\n"
     ]
    }
   ],
   "source": [
    "def bellman_product(x):\n",
    "\n",
    "    # Initialization\n",
    "    P = (1, 1)  # Change S to P for product\n",
    "    X = ([[]], [[]])\n",
    "\n",
    "    # Iteration\n",
    "    for xn in x:\n",
    "        if P[1] > (xn * P[1]):  # Change '+' to '*' for product\n",
    "            Ptails = 1\n",
    "            Xtails = [[]]\n",
    "        else:\n",
    "            Ptails = xn * P[1]  # Change '+' to '*' for product\n",
    "            Xtails = [Xp + [xn] for Xp in X[1]]\n",
    "\n",
    "        if Ptails > P[0]:\n",
    "            X = (Xtails, Xtails)\n",
    "            P = (Ptails, Ptails)\n",
    "        else:\n",
    "            X = (X[0], Xtails)\n",
    "            P = (P[0], Ptails)\n",
    "    return (X, P)\n",
    "\n",
    "x = [0.1, -0.3, 2.6, 9.1, -0.8]\n",
    "Xopt, Popt = bellman_product(x)\n",
    "print(f'Bellman recursion optimal product P={Popt}, configuration X={Xopt}')\n"
   ]
  },
  {
   "cell_type": "code",
   "execution_count": null,
   "metadata": {},
   "outputs": [],
   "source": []
  }
 ],
 "metadata": {
  "kernelspec": {
   "display_name": "Python 3 (ipykernel)",
   "language": "python",
   "name": "python3"
  },
  "language_info": {
   "codemirror_mode": {
    "name": "ipython",
    "version": 3
   },
   "file_extension": ".py",
   "mimetype": "text/x-python",
   "name": "python",
   "nbconvert_exporter": "python",
   "pygments_lexer": "ipython3",
   "version": "3.12.0"
  }
 },
 "nbformat": 4,
 "nbformat_minor": 2
}
