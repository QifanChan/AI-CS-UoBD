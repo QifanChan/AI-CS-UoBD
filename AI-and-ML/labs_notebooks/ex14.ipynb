{
 "cells": [
  {
   "cell_type": "code",
   "execution_count": null,
   "metadata": {},
   "outputs": [],
   "source": [
    "from ad import *"
   ]
  },
  {
   "cell_type": "markdown",
   "metadata": {},
   "source": [
    "Exercise 14: (Section 14) Automatic differentiation"
   ]
  },
  {
   "cell_type": "markdown",
   "metadata": {},
   "source": [
    "Define ReLU function in dual number form"
   ]
  },
  {
   "cell_type": "code",
   "execution_count": null,
   "metadata": {},
   "outputs": [],
   "source": [
    "def relu(u):\n",
    "    return max(dual(0,0),u)"
   ]
  },
  {
   "cell_type": "markdown",
   "metadata": {},
   "source": [
    "Evaluate gradient of simple expression"
   ]
  },
  {
   "cell_type": "code",
   "execution_count": null,
   "metadata": {},
   "outputs": [],
   "source": [
    "x = dual(2,1)\n",
    "y = dual(3,0)\n",
    "z = dual(-1,0)\n",
    "c = dual(2,0)\n",
    "u = max(y*z,y+c*x)\n",
    "print(f'u = max(y.z,y+c.x) = {u}')"
   ]
  },
  {
   "cell_type": "markdown",
   "metadata": {},
   "source": [
    "Compute gradient of two-layer MLP"
   ]
  },
  {
   "cell_type": "code",
   "execution_count": null,
   "metadata": {},
   "outputs": [],
   "source": [
    "x1 = dual(1.89,0)\n",
    "x2 = dual(-2.94,0)\n",
    "y = dual(1,0)\n",
    "w11 = dual(0.98,1)\n",
    "w21 = dual(-0.27,0)\n",
    "w12 = dual(-0.55,0)\n",
    "w22 = dual(-0.10,0)\n",
    "z1 = relu(w11*x1+w21*x2)\n",
    "z2 = relu(w12*x1+w22*x2)\n",
    "v1 = dual(-1.38,0)\n",
    "v2 = dual(-0.73,0)\n",
    "FFw = relu(-y*(v1*z1+v2*z2))\n",
    "print(f'F_w11 = relu(-y.(v1.z1+v2.z2)) = {FFw}')"
   ]
  },
  {
   "cell_type": "markdown",
   "metadata": {},
   "source": [
    "Challenge: compute gradients of above two-layer MLP for all four parameters w11, w21, w12, w22"
   ]
  }
 ],
 "metadata": {
  "kernelspec": {
   "display_name": "Python 3 (ipykernel)",
   "language": "python",
   "name": "python3"
  },
  "language_info": {
   "codemirror_mode": {
    "name": "ipython",
    "version": 3
   },
   "file_extension": ".py",
   "mimetype": "text/x-python",
   "name": "python",
   "nbconvert_exporter": "python",
   "pygments_lexer": "ipython3",
   "version": "3.8.17"
  }
 },
 "nbformat": 4,
 "nbformat_minor": 2
}
