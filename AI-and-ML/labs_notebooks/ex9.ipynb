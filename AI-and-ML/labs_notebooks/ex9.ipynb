{
 "cells": [
  {
   "cell_type": "code",
   "execution_count": 6,
   "metadata": {},
   "outputs": [],
   "source": [
    "import linregr\n",
    "import math\n",
    "import matplotlib.pyplot as plt"
   ]
  },
  {
   "cell_type": "markdown",
   "metadata": {},
   "source": [
    "Exercise 9: (Section 9) Linear regression using SGD"
   ]
  },
  {
   "cell_type": "code",
   "execution_count": 7,
   "metadata": {},
   "outputs": [],
   "source": [
    "# Sequential Gradient Descent\n",
    "# α (learning rate) and ε (tolerance for convergence)\n",
    "def sgd(α,ε):\n",
    "\n",
    "    # Initialization\n",
    "    w = linregr.gen_w0(D) # Initial guess for w\n",
    "    F = linregr.F(w,X,Y) # Initial value of objective function (loss function)\n",
    "    Fn = [] # Objective function values for output\n",
    "    ΔF = math.inf # Convergence measure\n",
    "\n",
    "    # Convergence test and iteration\n",
    "    while (ΔF >= ε):\n",
    "\n",
    "        # Save current objective function value for output\n",
    "        Fn = Fn + [F]\n",
    "\n",
    "        # Gradient descent step\n",
    "        wnew = w - α*linregr.Fw(w,X,Y)\n",
    "\n",
    "        # Compute convergence measure\n",
    "        Fnew = linregr.F(wnew,X,Y)\n",
    "        ΔF = abs(Fnew-F)\n",
    "\n",
    "        # Iteration -- update parameters and objective function value\n",
    "        w = wnew\n",
    "        F = Fnew\n",
    "    return w, Fn"
   ]
  },
  {
   "cell_type": "markdown",
   "metadata": {},
   "source": [
    "Generate linear regression model and X-Y data"
   ]
  },
  {
   "cell_type": "code",
   "execution_count": 8,
   "metadata": {},
   "outputs": [
    {
     "name": "stdout",
     "output_type": "stream",
     "text": [
      "Linear regression model: w=[[ 0.23056799 -0.08073408]], F=5.200303524346341\n"
     ]
    }
   ],
   "source": [
    "N = 10\n",
    "D = 2\n",
    "σ = 0.5\n",
    "wtrue, X, Y = linregr.gen_data(N,D,σ)\n",
    "F = linregr.F(wtrue,X,Y)\n",
    "print(f'Linear regression model: w={wtrue.T}, F={F}')"
   ]
  },
  {
   "cell_type": "markdown",
   "metadata": {},
   "source": [
    "Estimate optimal parameters using SGD"
   ]
  },
  {
   "cell_type": "code",
   "execution_count": 9,
   "metadata": {},
   "outputs": [
    {
     "name": "stdout",
     "output_type": "stream",
     "text": [
      "SGD optimal parameter estimate: w*=[[0.12382445 0.07422107]], F*=4.671578379509367\n"
     ]
    }
   ],
   "source": [
    "α = 0.01\n",
    "ε = 1e-4\n",
    "wopt, Fn = sgd(α,ε)\n",
    "Fopt = Fn[-1]\n",
    "print(f'SGD optimal parameter estimate: w*={wopt.T}, F*={Fopt}')"
   ]
  },
  {
   "cell_type": "markdown",
   "metadata": {},
   "source": [
    "Create plot of objective function"
   ]
  },
  {
   "cell_type": "code",
   "execution_count": 10,
   "metadata": {},
   "outputs": [
    {
     "data": {
      "image/png": "[encoded data removed]",
      "text/plain": [
       "<Figure size 640x480 with 1 Axes>"
      ]
     },
     "metadata": {},
     "output_type": "display_data"
    }
   ],
   "source": [
    "plt.plot(range(len(Fn)),Fn,'.-')\n",
    "plt.xlabel('Iteration $n$')\n",
    "plt.ylabel('$F(w_n)$')\n",
    "plt.show()"
   ]
  },
  {
   "cell_type": "code",
   "execution_count": null,
   "metadata": {},
   "outputs": [],
   "source": []
  }
 ],
 "metadata": {
  "kernelspec": {
   "display_name": "Python 3 (ipykernel)",
   "language": "python",
   "name": "python3"
  },
  "language_info": {
   "codemirror_mode": {
    "name": "ipython",
    "version": 3
   },
   "file_extension": ".py",
   "mimetype": "text/x-python",
   "name": "python",
   "nbconvert_exporter": "python",
   "pygments_lexer": "ipython3",
   "version": "3.12.0"
  }
 },
 "nbformat": 4,
 "nbformat_minor": 2
}
