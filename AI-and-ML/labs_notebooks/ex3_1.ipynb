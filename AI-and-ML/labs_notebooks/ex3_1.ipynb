{
 "cells": [
  {
   "cell_type": "code",
   "execution_count": 11,
   "metadata": {},
   "outputs": [],
   "source": [
    "import sdp"
   ]
  },
  {
   "cell_type": "markdown",
   "metadata": {},
   "source": [
    "Exercise 3.1: (Section 3) Find maximum sum sublist using exhaustive computation"
   ]
  },
  {
   "cell_type": "code",
   "execution_count": 12,
   "metadata": {},
   "outputs": [
    {
     "name": "stdout",
     "output_type": "stream",
     "text": [
      "Input data x=[0.1, -0.3, 2.6, 9.1, -0.8]\n"
     ]
    }
   ],
   "source": [
    "x = [0.1,-0.3,2.6,9.1,-0.8]\n",
    "print(f'Input data x={x}')"
   ]
  },
  {
   "cell_type": "markdown",
   "metadata": {},
   "source": [
    "Exhaustive generation of all sublists"
   ]
  },
  {
   "cell_type": "code",
   "execution_count": 13,
   "metadata": {},
   "outputs": [
    {
     "name": "stdout",
     "output_type": "stream",
     "text": [
      "All sublists: [[], [0.1], [-0.3], [0.1, -0.3], [2.6], [0.1, 2.6], [-0.3, 2.6], [0.1, -0.3, 2.6], [9.1], [0.1, 9.1], [-0.3, 9.1], [0.1, -0.3, 9.1], [2.6, 9.1], [0.1, 2.6, 9.1], [-0.3, 2.6, 9.1], [0.1, -0.3, 2.6, 9.1], [-0.8], [0.1, -0.8], [-0.3, -0.8], [0.1, -0.3, -0.8], [2.6, -0.8], [0.1, 2.6, -0.8], [-0.3, 2.6, -0.8], [0.1, -0.3, 2.6, -0.8], [9.1, -0.8], [0.1, 9.1, -0.8], [-0.3, 9.1, -0.8], [0.1, -0.3, 9.1, -0.8], [2.6, 9.1, -0.8], [0.1, 2.6, 9.1, -0.8], [-0.3, 2.6, 9.1, -0.8], [0.1, -0.3, 2.6, 9.1, -0.8]]\n"
     ]
    }
   ],
   "source": [
    "S = sdp.sublists(x)\n",
    "print(f'All sublists: {S}')"
   ]
  },
  {
   "cell_type": "markdown",
   "metadata": {},
   "source": [
    "Create a list of pairs of each sublist with its corresponding sum"
   ]
  },
  {
   "cell_type": "code",
   "execution_count": 14,
   "metadata": {},
   "outputs": [
    {
     "data": {
      "text/plain": [
       "[([], 0),\n",
       " ([0.1], 0.1),\n",
       " ([-0.3], -0.3),\n",
       " ([0.1, -0.3], -0.19999999999999998),\n",
       " ([2.6], 2.6),\n",
       " ([0.1, 2.6], 2.7),\n",
       " ([-0.3, 2.6], 2.3000000000000003),\n",
       " ([0.1, -0.3, 2.6], 2.4),\n",
       " ([9.1], 9.1),\n",
       " ([0.1, 9.1], 9.2),\n",
       " ([-0.3, 9.1], 8.799999999999999),\n",
       " ([0.1, -0.3, 9.1], 8.9),\n",
       " ([2.6, 9.1], 11.7),\n",
       " ([0.1, 2.6, 9.1], 11.799999999999999),\n",
       " ([-0.3, 2.6, 9.1], 11.4),\n",
       " ([0.1, -0.3, 2.6, 9.1], 11.5),\n",
       " ([-0.8], -0.8),\n",
       " ([0.1, -0.8], -0.7000000000000001),\n",
       " ([-0.3, -0.8], -1.1),\n",
       " ([0.1, -0.3, -0.8], -1.0),\n",
       " ([2.6, -0.8], 1.8),\n",
       " ([0.1, 2.6, -0.8], 1.9000000000000001),\n",
       " ([-0.3, 2.6, -0.8], 1.5),\n",
       " ([0.1, -0.3, 2.6, -0.8], 1.6),\n",
       " ([9.1, -0.8], 8.299999999999999),\n",
       " ([0.1, 9.1, -0.8], 8.4),\n",
       " ([-0.3, 9.1, -0.8], 8.0),\n",
       " ([0.1, -0.3, 9.1, -0.8], 8.1),\n",
       " ([2.6, 9.1, -0.8], 10.9),\n",
       " ([0.1, 2.6, 9.1, -0.8], 11.0),\n",
       " ([-0.3, 2.6, 9.1, -0.8], 10.6),\n",
       " ([0.1, -0.3, 2.6, 9.1, -0.8], 10.7)]"
      ]
     },
     "execution_count": 14,
     "metadata": {},
     "output_type": "execute_result"
    }
   ],
   "source": [
    "sumpair = sdp.sublistsumpair(S)\n",
    "sumpair"
   ]
  },
  {
   "cell_type": "markdown",
   "metadata": {},
   "source": [
    "Find optimal sublist with corresponding sum"
   ]
  },
  {
   "cell_type": "code",
   "execution_count": 15,
   "metadata": {},
   "outputs": [
    {
     "name": "stdout",
     "output_type": "stream",
     "text": [
      "Maximum sum 11.799999999999999 sublist: [0.1, 2.6, 9.1]\n"
     ]
    }
   ],
   "source": [
    "Xmax,Smax = sdp.maxtuple(sumpair)\n",
    "print(f'Maximum sum {Smax} sublist: {Xmax}')"
   ]
  },
  {
   "cell_type": "markdown",
   "metadata": {},
   "source": [
    "Challenge: find the maximum sum list partition"
   ]
  },
  {
   "cell_type": "code",
   "execution_count": 27,
   "metadata": {},
   "outputs": [
    {
     "data": {
      "text/plain": [
       "[[[0.1, 2.6, 9.1]],\n",
       " [[0.1], [2.6, 9.1]],\n",
       " [[0.1, 2.6], [9.1]],\n",
       " [[0.1], [2.6], [9.1]]]"
      ]
     },
     "execution_count": 27,
     "metadata": {},
     "output_type": "execute_result"
    }
   ],
   "source": [
    "Xmax_par = sdp.listparts(Xmax)\n",
    "Xmax_par"
   ]
  },
  {
   "cell_type": "code",
   "execution_count": null,
   "metadata": {},
   "outputs": [],
   "source": []
  }
 ],
 "metadata": {
  "kernelspec": {
   "display_name": "Python 3 (ipykernel)",
   "language": "python",
   "name": "python3"
  },
  "language_info": {
   "codemirror_mode": {
    "name": "ipython",
    "version": 3
   },
   "file_extension": ".py",
   "mimetype": "text/x-python",
   "name": "python",
   "nbconvert_exporter": "python",
   "pygments_lexer": "ipython3",
   "version": "3.12.0"
  }
 },
 "nbformat": 4,
 "nbformat_minor": 4
}
