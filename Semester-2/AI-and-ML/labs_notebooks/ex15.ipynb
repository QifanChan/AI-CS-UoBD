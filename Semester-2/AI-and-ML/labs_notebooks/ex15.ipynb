{
 "cells": [
  {
   "cell_type": "code",
   "execution_count": null,
   "metadata": {},
   "outputs": [],
   "source": [
    "import numpy as np\n",
    "import math\n",
    "import matplotlib.pyplot as plt"
   ]
  },
  {
   "cell_type": "markdown",
   "metadata": {},
   "source": [
    "Exercise 15: (Section 15) Probability"
   ]
  },
  {
   "cell_type": "markdown",
   "metadata": {},
   "source": [
    "Joint distribution P(X,Y), which should be normalized"
   ]
  },
  {
   "cell_type": "code",
   "execution_count": null,
   "metadata": {},
   "outputs": [],
   "source": [
    "PXY = np.array([[3/7, 1/7],[3/15, 8/35]])\n",
    "zxy = PXY.sum(axis=1).sum(axis=0)\n",
    "print(f'PXY normalization: {zxy}')"
   ]
  },
  {
   "cell_type": "markdown",
   "metadata": {},
   "source": [
    "Marginals P(X), P(Y)"
   ]
  },
  {
   "cell_type": "code",
   "execution_count": null,
   "metadata": {},
   "outputs": [],
   "source": [
    "PX = PXY.sum(axis=1)\n",
    "PY = PXY.sum(axis=0)\n",
    "zx = PX.sum(axis=0)\n",
    "zy = PY.sum(axis=0)\n",
    "print(f'PX/PY normalization: {zx}, {zy}')"
   ]
  },
  {
   "cell_type": "markdown",
   "metadata": {},
   "source": [
    "Conditionals P(Y|X), P(X|Y)"
   ]
  },
  {
   "cell_type": "code",
   "execution_count": null,
   "metadata": {},
   "outputs": [],
   "source": [
    "PY_X = np.array([PXY[0,:]/PX[0],PXY[1,:]/PX[1]])\n",
    "PX_Y = np.array([PXY[:,0]/PY[0],PXY[:,1]/PY[1]])\n",
    "zy_x = PY_X.sum(axis=1)\n",
    "zx_y = PX_Y.sum(axis=1)\n",
    "print(f'PY_X/PX_Y normalization: {zy_x}, {zx_y}')"
   ]
  },
  {
   "cell_type": "markdown",
   "metadata": {},
   "source": [
    "Implement binomial distribution function"
   ]
  },
  {
   "cell_type": "code",
   "execution_count": null,
   "metadata": {},
   "outputs": [],
   "source": [
    "def binompmf(x,p,N):\n",
    "    return math.comb(N,x)*(1-p)**(N-x)*p**x"
   ]
  },
  {
   "cell_type": "markdown",
   "metadata": {},
   "source": [
    "Plot over range of variable"
   ]
  },
  {
   "cell_type": "code",
   "execution_count": null,
   "metadata": {},
   "outputs": [],
   "source": [
    "N = 20\n",
    "p = 0.7\n",
    "xr = range(N+1)\n",
    "pmf = [binompmf(x,p,N) for x in xr]\n",
    "zpmf = sum(pmf)\n",
    "print(f'Binomial normalization: {zpmf}')"
   ]
  },
  {
   "cell_type": "code",
   "execution_count": null,
   "metadata": {},
   "outputs": [],
   "source": [
    "plt.plot(xr,pmf,'k.-')\n",
    "plt.show()"
   ]
  },
  {
   "cell_type": "markdown",
   "metadata": {},
   "source": [
    "Challenge: implement and plot the Beta-binomial distribution function<br>\n",
    "https://en.wikipedia.org/wiki/Beta-binomial_distribution"
   ]
  }
 ],
 "metadata": {
  "kernelspec": {
   "display_name": "Python 3 (ipykernel)",
   "language": "python",
   "name": "python3"
  },
  "language_info": {
   "codemirror_mode": {
    "name": "ipython",
    "version": 3
   },
   "file_extension": ".py",
   "mimetype": "text/x-python",
   "name": "python",
   "nbconvert_exporter": "python",
   "pygments_lexer": "ipython3",
   "version": "3.8.17"
  }
 },
 "nbformat": 4,
 "nbformat_minor": 2
}
