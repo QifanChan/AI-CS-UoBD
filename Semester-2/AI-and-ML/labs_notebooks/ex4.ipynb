{
 "cells": [
  {
   "cell_type": "code",
   "execution_count": 1,
   "metadata": {},
   "outputs": [],
   "source": [
    "import sdp"
   ]
  },
  {
   "cell_type": "markdown",
   "metadata": {},
   "source": [
    "Exercise 4: (Section 4) Greedy SDP for maximum sum sublists"
   ]
  },
  {
   "cell_type": "markdown",
   "metadata": {},
   "source": [
    "Define functions for use with generic SDP, Algorithm 4.1"
   ]
  },
  {
   "cell_type": "code",
   "execution_count": 2,
   "metadata": {},
   "outputs": [],
   "source": [
    "def sdp_init(x):\n",
    "    return [([],0)]"
   ]
  },
  {
   "cell_type": "code",
   "execution_count": 3,
   "metadata": {},
   "outputs": [],
   "source": [
    "def sdp_extend(S,xn):\n",
    "    return S + [(X + [xn], s + xn) for (X, s) in S]"
   ]
  },
  {
   "cell_type": "code",
   "execution_count": 4,
   "metadata": {},
   "outputs": [],
   "source": [
    "def sdp_reduce(S):\n",
    "    return [sdp.maxtuple(S)]"
   ]
  },
  {
   "cell_type": "code",
   "execution_count": 5,
   "metadata": {},
   "outputs": [],
   "source": [
    "def sdp_select(S):\n",
    "    return S[0]"
   ]
  },
  {
   "cell_type": "markdown",
   "metadata": {},
   "source": [
    "Call generic SDP"
   ]
  },
  {
   "cell_type": "code",
   "execution_count": 6,
   "metadata": {},
   "outputs": [
    {
     "name": "stdout",
     "output_type": "stream",
     "text": [
      "Input data x=[0.1, -0.3, 2.6, 9.1, -0.8]\n",
      "Greedy SDP maximum sum S=11.8, sublist X=[0.1, 2.6, 9.1]\n"
     ]
    }
   ],
   "source": [
    "x = [0.1,-0.3,2.6,9.1,-0.8]\n",
    "print(f'Input data x={x}')\n",
    "Xmax,Smax = sdp.sdp_generic(x,sdp_init,sdp_extend,sdp_reduce,sdp_select)\n",
    "print(f'Greedy SDP maximum sum S={Smax}, sublist X={Xmax}')"
   ]
  },
  {
   "cell_type": "markdown",
   "metadata": {},
   "source": [
    "Challenge: greedy SDP for minimum sum sublists"
   ]
  },
  {
   "cell_type": "code",
   "execution_count": 8,
   "metadata": {},
   "outputs": [],
   "source": [
    "def sdp_reduce(S):\n",
    "    return [sdp.mintuple(S)]"
   ]
  },
  {
   "cell_type": "code",
   "execution_count": 9,
   "metadata": {},
   "outputs": [
    {
     "name": "stdout",
     "output_type": "stream",
     "text": [
      "Input data x=[0.1, -0.3, 2.6, 9.1, -0.8]\n",
      "Greedy SDP minimum sum S=-1.1, sublist X=[-0.3, -0.8]\n"
     ]
    }
   ],
   "source": [
    "print(f'Input data x={x}')\n",
    "Xmax,Smax = sdp.sdp_generic(x,sdp_init,sdp_extend,sdp_reduce,sdp_select)\n",
    "print(f'Greedy SDP minimum sum S={Smax}, sublist X={Xmax}')"
   ]
  },
  {
   "cell_type": "code",
   "execution_count": null,
   "metadata": {},
   "outputs": [],
   "source": []
  }
 ],
 "metadata": {
  "kernelspec": {
   "display_name": "Python 3 (ipykernel)",
   "language": "python",
   "name": "python3"
  },
  "language_info": {
   "codemirror_mode": {
    "name": "ipython",
    "version": 3
   },
   "file_extension": ".py",
   "mimetype": "text/x-python",
   "name": "python",
   "nbconvert_exporter": "python",
   "pygments_lexer": "ipython3",
   "version": "3.12.0"
  }
 },
 "nbformat": 4,
 "nbformat_minor": 2
}
