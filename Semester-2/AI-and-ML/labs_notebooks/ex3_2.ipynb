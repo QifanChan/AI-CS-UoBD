{
 "cells": [
  {
   "cell_type": "code",
   "execution_count": 2,
   "metadata": {},
   "outputs": [],
   "source": [
    "import sdp"
   ]
  },
  {
   "cell_type": "markdown",
   "metadata": {},
   "source": [
    "Exercise 3.2: (Section 3) Using exhaustive computation, find a list partition with sorted segments<br>\n",
    "having the smallest number of segments"
   ]
  },
  {
   "cell_type": "code",
   "execution_count": 3,
   "metadata": {},
   "outputs": [
    {
     "name": "stdout",
     "output_type": "stream",
     "text": [
      "Input data x=[0.1, -0.3, 2.6, 9.1, -0.8]\n"
     ]
    }
   ],
   "source": [
    "x = [0.1,-0.3,2.6,9.1,-0.8]\n",
    "print(f'Input data x={x}')"
   ]
  },
  {
   "cell_type": "markdown",
   "metadata": {},
   "source": [
    "Exhaustive generation of all list partitions"
   ]
  },
  {
   "cell_type": "code",
   "execution_count": 4,
   "metadata": {},
   "outputs": [
    {
     "name": "stdout",
     "output_type": "stream",
     "text": [
      "All list partitions: [[[0.1, -0.3, 2.6, 9.1, -0.8]], [[0.1], [-0.3, 2.6, 9.1, -0.8]], [[0.1, -0.3], [2.6, 9.1, -0.8]], [[0.1], [-0.3], [2.6, 9.1, -0.8]], [[0.1, -0.3, 2.6], [9.1, -0.8]], [[0.1], [-0.3, 2.6], [9.1, -0.8]], [[0.1, -0.3], [2.6], [9.1, -0.8]], [[0.1], [-0.3], [2.6], [9.1, -0.8]], [[0.1, -0.3, 2.6, 9.1], [-0.8]], [[0.1], [-0.3, 2.6, 9.1], [-0.8]], [[0.1, -0.3], [2.6, 9.1], [-0.8]], [[0.1], [-0.3], [2.6, 9.1], [-0.8]], [[0.1, -0.3, 2.6], [9.1], [-0.8]], [[0.1], [-0.3, 2.6], [9.1], [-0.8]], [[0.1, -0.3], [2.6], [9.1], [-0.8]], [[0.1], [-0.3], [2.6], [9.1], [-0.8]]]\n"
     ]
    }
   ],
   "source": [
    "S = sdp.listparts(x)\n",
    "print(f'All list partitions: {S}')"
   ]
  },
  {
   "cell_type": "markdown",
   "metadata": {},
   "source": [
    "Create a list of pairs of each partition, and a Boolean indicating whether each segment is sorted"
   ]
  },
  {
   "cell_type": "code",
   "execution_count": 5,
   "metadata": {},
   "outputs": [
    {
     "data": {
      "text/plain": [
       "[([[0.1, -0.3, 2.6, 9.1, -0.8]], False),\n",
       " ([[0.1], [-0.3, 2.6, 9.1, -0.8]], False),\n",
       " ([[0.1, -0.3], [2.6, 9.1, -0.8]], False),\n",
       " ([[0.1], [-0.3], [2.6, 9.1, -0.8]], False),\n",
       " ([[0.1, -0.3, 2.6], [9.1, -0.8]], False),\n",
       " ([[0.1], [-0.3, 2.6], [9.1, -0.8]], False),\n",
       " ([[0.1, -0.3], [2.6], [9.1, -0.8]], False),\n",
       " ([[0.1], [-0.3], [2.6], [9.1, -0.8]], False),\n",
       " ([[0.1, -0.3, 2.6, 9.1], [-0.8]], False),\n",
       " ([[0.1], [-0.3, 2.6, 9.1], [-0.8]], True),\n",
       " ([[0.1, -0.3], [2.6, 9.1], [-0.8]], False),\n",
       " ([[0.1], [-0.3], [2.6, 9.1], [-0.8]], True),\n",
       " ([[0.1, -0.3, 2.6], [9.1], [-0.8]], False),\n",
       " ([[0.1], [-0.3, 2.6], [9.1], [-0.8]], True),\n",
       " ([[0.1, -0.3], [2.6], [9.1], [-0.8]], False),\n",
       " ([[0.1], [-0.3], [2.6], [9.1], [-0.8]], True)]"
      ]
     },
     "execution_count": 5,
     "metadata": {},
     "output_type": "execute_result"
    }
   ],
   "source": [
    "sortpair = sdp.listpartsortpair(S)\n",
    "sortpair"
   ]
  },
  {
   "cell_type": "markdown",
   "metadata": {},
   "source": [
    "Retain only partitions with sorted segments"
   ]
  },
  {
   "cell_type": "code",
   "execution_count": 6,
   "metadata": {},
   "outputs": [
    {
     "data": {
      "text/plain": [
       "[[[0.1], [-0.3, 2.6, 9.1], [-0.8]],\n",
       " [[0.1], [-0.3], [2.6, 9.1], [-0.8]],\n",
       " [[0.1], [-0.3, 2.6], [9.1], [-0.8]],\n",
       " [[0.1], [-0.3], [2.6], [9.1], [-0.8]]]"
      ]
     },
     "execution_count": 6,
     "metadata": {},
     "output_type": "execute_result"
    }
   ],
   "source": [
    "Xsorted = sdp.truetuple(sortpair)\n",
    "Xsorted"
   ]
  },
  {
   "cell_type": "markdown",
   "metadata": {},
   "source": [
    "Count number of segments of each partition"
   ]
  },
  {
   "cell_type": "code",
   "execution_count": 7,
   "metadata": {},
   "outputs": [
    {
     "name": "stdout",
     "output_type": "stream",
     "text": [
      "All list partitions with sorted segments [([[0.1], [-0.3, 2.6, 9.1], [-0.8]], 3), ([[0.1], [-0.3], [2.6, 9.1], [-0.8]], 4), ([[0.1], [-0.3, 2.6], [9.1], [-0.8]], 4), ([[0.1], [-0.3], [2.6], [9.1], [-0.8]], 5)]\n",
      "3\n",
      "4\n",
      "4\n",
      "5\n"
     ]
    }
   ],
   "source": [
    "partsegs = [(X,len(X)) for X in Xsorted]\n",
    "print(f'All list partitions with sorted segments {partsegs}')\n",
    "for seg in partsegs:\n",
    "    print(seg[1])"
   ]
  },
  {
   "cell_type": "markdown",
   "metadata": {},
   "source": [
    "Find one with the smallest number of segments"
   ]
  },
  {
   "cell_type": "code",
   "execution_count": 8,
   "metadata": {},
   "outputs": [
    {
     "name": "stdout",
     "output_type": "stream",
     "text": [
      "Minimum size sorted segment Nsegs=3, optimal list partition Xopt=[[0.1], [-0.3, 2.6, 9.1], [-0.8]]\n"
     ]
    }
   ],
   "source": [
    "Xopt,Nopt = sdp.mintuple(partsegs)\n",
    "print(f'Minimum size sorted segment Nsegs={Nopt}, optimal list partition Xopt={Xopt}')"
   ]
  },
  {
   "cell_type": "markdown",
   "metadata": {},
   "source": [
    "Challenge: find all list partitions with at least one segment of size K"
   ]
  },
  {
   "cell_type": "code",
   "execution_count": 22,
   "metadata": {},
   "outputs": [
    {
     "data": {
      "text/plain": [
       "[[[[0.1, -0.3], [2.6, 9.1, -0.8]], True],\n",
       " [[[0.1, -0.3, 2.6], [9.1, -0.8]], True],\n",
       " [[[0.1], [-0.3, 2.6], [9.1, -0.8]], True],\n",
       " [[[0.1, -0.3], [2.6], [9.1, -0.8]], True],\n",
       " [[[0.1], [-0.3], [2.6], [9.1, -0.8]], True],\n",
       " [[[0.1, -0.3], [2.6, 9.1], [-0.8]], True],\n",
       " [[[0.1], [-0.3], [2.6, 9.1], [-0.8]], True],\n",
       " [[[0.1], [-0.3, 2.6], [9.1], [-0.8]], True],\n",
       " [[[0.1, -0.3], [2.6], [9.1], [-0.8]], True]]"
      ]
     },
     "execution_count": 22,
     "metadata": {},
     "output_type": "execute_result"
    }
   ],
   "source": [
    "def find_least_partition_with_size_K(S, K):\n",
    "    bool_list = []\n",
    "    for outer in S:\n",
    "        found_k_length = any(len(inner) == K for inner in outer)\n",
    "        if found_k_length:\n",
    "            bool_list.append([outer, found_k_length])\n",
    "    return bool_list\n",
    "\n",
    "K = 2\n",
    "bool_list = find_least_partition_with_size_K(S, K)\n",
    "bool_list"
   ]
  },
  {
   "cell_type": "code",
   "execution_count": null,
   "metadata": {},
   "outputs": [],
   "source": []
  }
 ],
 "metadata": {
  "kernelspec": {
   "display_name": "Python 3 (ipykernel)",
   "language": "python",
   "name": "python3"
  },
  "language_info": {
   "codemirror_mode": {
    "name": "ipython",
    "version": 3
   },
   "file_extension": ".py",
   "mimetype": "text/x-python",
   "name": "python",
   "nbconvert_exporter": "python",
   "pygments_lexer": "ipython3",
   "version": "3.12.0"
  }
 },
 "nbformat": 4,
 "nbformat_minor": 4
}
