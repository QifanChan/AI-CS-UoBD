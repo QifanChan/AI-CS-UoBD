{
 "cells": [
  {
   "cell_type": "markdown",
   "id": "c89ca758",
   "metadata": {},
   "source": [
    "# Numpy Comparisons, Masks, and Boolean Logic Coding Lab Questions"
   ]
  },
  {
   "cell_type": "markdown",
   "id": "7ad1036e",
   "metadata": {},
   "source": [
    "1. Create a 1-D numpy array of 10 random integers. Identify and print all the even numbers from the array."
   ]
  },
  {
   "cell_type": "markdown",
   "id": "58a7dc90",
   "metadata": {},
   "source": [
    "2. Given a 2-D numpy array of shape (5, 5), identify and print all the elements greater than 50."
   ]
  },
  {
   "cell_type": "markdown",
   "id": "6b30a42c",
   "metadata": {},
   "source": [
    "3. Create a 1-D numpy array of 10 elements. Use boolean masking to replace all odd numbers with -1."
   ]
  },
  {
   "cell_type": "markdown",
   "id": "ab5c418e",
   "metadata": {},
   "source": [
    "4. Given a 2-D numpy array of shape (4, 4), identify and print the positions (indices) of elements less than 10."
   ]
  },
  {
   "cell_type": "markdown",
   "id": "19a880ae",
   "metadata": {},
   "source": [
    "5. Create a 1-D numpy array of 20 elements. Count the number of elements that are either greater than 40 or less than 20."
   ]
  },
  {
   "cell_type": "markdown",
   "id": "f8d3b1a9",
   "metadata": {},
   "source": [
    "6. Given a 2-D numpy array of shape (3, 3), check if any of the rows contain an element greater than 30."
   ]
  },
  {
   "cell_type": "markdown",
   "id": "5b0e597d",
   "metadata": {},
   "source": [
    "7. Create a 1-D numpy array of 15 elements. Use boolean logic to identify and print all elements that are not divisible by 3."
   ]
  },
  {
   "cell_type": "markdown",
   "id": "079ac1ea",
   "metadata": {},
   "source": [
    "8. Given a 2-D numpy array of shape (5, 3), identify and print all columns that have a mean value greater than 25."
   ]
  },
  {
   "cell_type": "markdown",
   "id": "120ede28",
   "metadata": {},
   "source": [
    "9. Create a 1-D numpy array of 10 elements. Identify the positions (indices) of all elements that are either less than 5 or greater than 8."
   ]
  },
  {
   "cell_type": "markdown",
   "id": "735c1840",
   "metadata": {},
   "source": [
    "10. Given a 2-D numpy array of shape (6, 4), check if all elements in the array are positive."
   ]
  },
  {
   "cell_type": "markdown",
   "id": "e3294593",
   "metadata": {},
   "source": [
    "11. Create a 1-D numpy array of 50 elements. Count the number of elements that are divisible by 7 and greater than 30."
   ]
  },
  {
   "cell_type": "markdown",
   "id": "e7857df3",
   "metadata": {},
   "source": [
    "12. Given a 2-D numpy array of shape (7, 7), identify and print the positions (indices) of elements that are less than 10 or greater than 60."
   ]
  },
  {
   "cell_type": "markdown",
   "id": "7b12b939",
   "metadata": {},
   "source": [
    "13. Create a 1-D numpy array of 20 elements. Use boolean masking to replace all elements less than 10 with the value 0 and all elements greater than 50 with the value 100."
   ]
  },
  {
   "cell_type": "markdown",
   "id": "e37bcf4a",
   "metadata": {},
   "source": [
    "14. Given a 2-D numpy array of shape (5, 5), identify and print all the elements that are between 20 and 40 (both inclusive)."
   ]
  },
  {
   "cell_type": "markdown",
   "id": "c3fe92a5",
   "metadata": {},
   "source": [
    "15. Create a 1-D numpy array of 25 elements. Identify and print the positions (indices) of all elements that are divisible by 5 or divisible by 7."
   ]
  },
  {
   "cell_type": "markdown",
   "id": "7888d0e3",
   "metadata": {},
   "source": [
    "16. Given a 2-D numpy array of shape (5, 6), check if any of the columns contain an element less than 5."
   ]
  },
  {
   "cell_type": "markdown",
   "id": "906023ba",
   "metadata": {},
   "source": [
    "17. Create a 1-D numpy array of 30 elements. Use boolean logic to identify and print all elements that are not between 10 and 30 (both exclusive)."
   ]
  },
  {
   "cell_type": "markdown",
   "id": "69fe595c",
   "metadata": {},
   "source": [
    "18. Given a 2-D numpy array of shape (4, 4), identify and print the positions (indices) of elements that are equal to 25."
   ]
  },
  {
   "cell_type": "markdown",
   "id": "11957e60",
   "metadata": {},
   "source": [
    "19. Create a 1-D numpy array of 25 elements. Identify and print all elements that are either even or greater than 40."
   ]
  },
  {
   "cell_type": "markdown",
   "id": "3431ef9a",
   "metadata": {},
   "source": [
    "20. Given a 2-D numpy array of shape (6, 5), check if all rows contain at least one element greater than 50."
   ]
  },
  {
   "cell_type": "markdown",
   "id": "afd07e5b",
   "metadata": {},
   "source": [
    "# Solutions"
   ]
  },
  {
   "cell_type": "code",
   "metadata": {},
   "outputs": [],
   "source": [
    "import numpy as np"
   ]
  },
  {
   "cell_type": "code",
   "metadata": {},
   "outputs": [],
   "source": [
    "# Solution to Question 1\n",
    "array_1d = np.random.randint(0, 100, 10)\n",
    "even_numbers = array_1d[array_1d % 2 == 0]\n",
    "even_numbers"
   ]
  },
  {
   "cell_type": "code",
   "metadata": {},
   "outputs": [],
   "source": [
    "# Solution to Question 2\n",
    "array_2d = np.random.randint(0, 100, (5, 5))\n",
    "elements_gt_50 = array_2d[array_2d > 50]\n",
    "elements_gt_50"
   ]
  },
  {
   "cell_type": "code",
   "metadata": {},
   "outputs": [],
   "source": [
    "# Solution to Question 3\n",
    "array_1d = np.random.randint(0, 100, 10)\n",
    "array_1d[array_1d % 2 == 1] = -1\n",
    "array_1d"
   ]
  },
  {
   "cell_type": "code",
   "metadata": {},
   "outputs": [],
   "source": [
    "# Solution to Question 4\n",
    "array_2d = np.random.randint(0, 100, (4, 4))\n",
    "positions = np.argwhere(array_2d < 10)\n",
    "positions"
   ]
  },
  {
   "cell_type": "code",
   "metadata": {},
   "outputs": [],
   "source": [
    "# Solution to Question 5\n",
    "array_1d = np.random.randint(0, 100, 20)\n",
    "count = np.sum((array_1d > 40) | (array_1d < 20))\n",
    "count"
   ]
  },
  {
   "cell_type": "code",
   "metadata": {},
   "outputs": [],
   "source": [
    "# Solution to Question 6\n",
    "array_2d = np.random.randint(0, 100, (3, 3))\n",
    "rows_with_gt_30 = np.any(array_2d > 30, axis=1)\n",
    "rows_with_gt_30"
   ]
  },
  {
   "cell_type": "code",
   "metadata": {},
   "outputs": [],
   "source": [
    "# Solution to Question 7\n",
    "array_1d = np.random.randint(0, 100, 15)\n",
    "non_divisible_by_3 = array_1d[array_1d % 3 != 0]\n",
    "non_divisible_by_3"
   ]
  },
  {
   "cell_type": "code",
   "metadata": {},
   "outputs": [],
   "source": [
    "# Solution to Question 8\n",
    "array_2d = np.random.randint(0, 100, (5, 3))\n",
    "columns_with_mean_gt_25 = np.mean(array_2d, axis=0) > 25\n",
    "columns_with_mean_gt_25"
   ]
  },
  {
   "cell_type": "code",
   "metadata": {},
   "outputs": [],
   "source": [
    "# Solution to Question 9\n",
    "array_1d = np.random.randint(0, 15, 10)\n",
    "positions = np.argwhere((array_1d < 5) | (array_1d > 8))\n",
    "positions"
   ]
  },
  {
   "cell_type": "code",
   "metadata": {},
   "outputs": [],
   "source": [
    "# Solution to Question 10\n",
    "array_2d = np.random.randint(-10, 10, (6, 4))\n",
    "all_positive = np.all(array_2d > 0)\n",
    "all_positive"
   ]
  },
  {
   "cell_type": "code",
   "metadata": {},
   "outputs": [],
   "source": [
    "# Solution to Question 11\n",
    "array_1d = np.random.randint(0, 100, 50)\n",
    "count = np.sum((array_1d % 7 == 0) & (array_1d > 30))\n",
    "count"
   ]
  },
  {
   "cell_type": "code",
   "metadata": {},
   "outputs": [],
   "source": [
    "# Solution to Question 12\n",
    "array_2d = np.random.randint(0, 100, (7, 7))\n",
    "positions = np.argwhere((array_2d < 10) | (array_2d > 60))\n",
    "positions"
   ]
  },
  {
   "cell_type": "code",
   "metadata": {},
   "outputs": [],
   "source": [
    "# Solution to Question 13\n",
    "array_1d = np.random.randint(0, 100, 20)\n",
    "array_1d[(array_1d < 10)] = 0\n",
    "array_1d[(array_1d > 50)] = 100\n",
    "array_1d"
   ]
  },
  {
   "cell_type": "code",
   "metadata": {},
   "outputs": [],
   "source": [
    "# Solution to Question 14\n",
    "array_2d = np.random.randint(0, 100, (5, 5))\n",
    "elements_between_20_40 = array_2d[(array_2d >= 20) & (array_2d <= 40)]\n",
    "elements_between_20_40"
   ]
  },
  {
   "cell_type": "code",
   "metadata": {},
   "outputs": [],
   "source": [
    "# Solution to Question 15\n",
    "array_1d = np.random.randint(0, 100, 25)\n",
    "positions = np.argwhere((array_1d % 5 == 0) | (array_1d % 7 == 0))\n",
    "positions"
   ]
  },
  {
   "cell_type": "code",
   "metadata": {},
   "outputs": [],
   "source": [
    "# Solution to Question 16\n",
    "array_2d = np.random.randint(0, 100, (5, 6))\n",
    "columns_with_lt_5 = np.any(array_2d < 5, axis=0)\n",
    "columns_with_lt_5"
   ]
  },
  {
   "cell_type": "code",
   "metadata": {},
   "outputs": [],
   "source": [
    "# Solution to Question 17\n",
    "array_1d = np.random.randint(0, 50, 30)\n",
    "elements_outside_10_30 = array_1d[(array_1d <= 10) | (array_1d >= 30)]\n",
    "elements_outside_10_30"
   ]
  },
  {
   "cell_type": "code",
   "metadata": {},
   "outputs": [],
   "source": [
    "# Solution to Question 18\n",
    "array_2d = np.random.randint(0, 100, (4, 4))\n",
    "positions = np.argwhere(array_2d == 25)\n",
    "positions"
   ]
  },
  {
   "cell_type": "code",
   "metadata": {},
   "outputs": [],
   "source": [
    "# Solution to Question 19\n",
    "array_1d = np.random.randint(0, 100, 25)\n",
    "even_or_gt_40 = array_1d[(array_1d % 2 == 0) | (array_1d > 40)]\n",
    "even_or_gt_40"
   ]
  },
  {
   "cell_type": "code",
   "metadata": {},
   "outputs": [],
   "source": [
    "# Solution to Question 20\n",
    "array_2d = np.random.randint(0, 100, (6, 5))\n",
    "rows_with_gt_50 = np.any(array_2d > 50, axis=1)\n",
    "rows_with_gt_50"
   ]
  }
 ],
 "metadata": {
  "kernelspec": {
   "display_name": "Python 3 (ipykernel)",
   "language": "python",
   "name": "python3"
  },
  "language_info": {
   "codemirror_mode": {
    "name": "ipython",
    "version": 3
   },
   "file_extension": ".py",
   "mimetype": "text/x-python",
   "name": "python",
   "nbconvert_exporter": "python",
   "pygments_lexer": "ipython3",
   "version": "3.9.12"
  }
 },
 "nbformat": 4,
 "nbformat_minor": 5
}
