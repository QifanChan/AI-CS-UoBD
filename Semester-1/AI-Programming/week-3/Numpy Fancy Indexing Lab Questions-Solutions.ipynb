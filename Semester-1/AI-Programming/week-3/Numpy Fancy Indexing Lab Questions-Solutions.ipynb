{
 "cells": [
  {
   "cell_type": "markdown",
   "id": "496da42e",
   "metadata": {},
   "source": [
    "# Numpy Fancy Indexing Coding Lab Questions"
   ]
  },
  {
   "cell_type": "markdown",
   "id": "ac67cea2",
   "metadata": {},
   "source": [
    "1. Create a 1D numpy array of 10 random integers between 0 and 100. Use fancy indexing to obtain the elements at indices 2, 5, and 7."
   ]
  },
  {
   "cell_type": "markdown",
   "id": "1b0bf4a2",
   "metadata": {},
   "source": [
    "2. Given a 2D numpy array of shape (5, 5), use fancy indexing to extract the diagonal elements."
   ]
  },
  {
   "cell_type": "markdown",
   "id": "ab028afe",
   "metadata": {},
   "source": [
    "3. Create a 1D numpy array of 20 random integers. Use fancy indexing to replace all even numbers with the value -1."
   ]
  },
  {
   "cell_type": "markdown",
   "id": "c459dbc2",
   "metadata": {},
   "source": [
    "4. Given a 2D numpy array, use fancy indexing to extract all rows where the first element is greater than 50."
   ]
  },
  {
   "cell_type": "markdown",
   "id": "88312f50",
   "metadata": {},
   "source": [
    "5. Create a 1D numpy array of 15 elements. Use fancy indexing to extract every 3rd element starting from the first element."
   ]
  },
  {
   "cell_type": "markdown",
   "id": "402c0510",
   "metadata": {},
   "source": [
    "6. Given a 2D numpy array of shape (6, 6), use fancy indexing to extract the first, third, and fifth columns."
   ]
  },
  {
   "cell_type": "markdown",
   "id": "8e5074b3",
   "metadata": {},
   "source": [
    "7. Create a 1D numpy array of 10 elements. Use fancy indexing to reverse the order of elements."
   ]
  },
  {
   "cell_type": "markdown",
   "id": "a96502fe",
   "metadata": {},
   "source": [
    "8. Given a 2D numpy array, use fancy indexing to extract all elements that are greater than 30 and less than 60."
   ]
  },
  {
   "cell_type": "markdown",
   "id": "1723013b",
   "metadata": {},
   "source": [
    "9. Create a 1D numpy array of 12 elements. Use fancy indexing to extract all prime numbers from the array."
   ]
  },
  {
   "cell_type": "markdown",
   "id": "87b7c7a6",
   "metadata": {},
   "source": [
    "10. Given a 2D numpy array of shape (4, 4), use fancy indexing to extract the elements from the last row and first column."
   ]
  },
  {
   "cell_type": "markdown",
   "id": "3b1c2415",
   "metadata": {},
   "source": [
    "11. Create a 1D numpy array of 8 elements. Use fancy indexing to extract all elements that are multiples of 3."
   ]
  },
  {
   "cell_type": "markdown",
   "id": "54cca486",
   "metadata": {},
   "source": [
    "12. Given a 2D numpy array, use fancy indexing to extract all rows where the sum of the row elements is greater than 100."
   ]
  },
  {
   "cell_type": "markdown",
   "id": "ae6554f5",
   "metadata": {},
   "source": [
    "13. Create a 1D numpy array of 10 random integers between 0 and 50. Use fancy indexing to extract all numbers that are even and greater than 20."
   ]
  },
  {
   "cell_type": "markdown",
   "id": "58eed90f",
   "metadata": {},
   "source": [
    "14. Given a 2D numpy array of shape (3, 3), use fancy indexing to extract the second row and second column."
   ]
  },
  {
   "cell_type": "markdown",
   "id": "06267837",
   "metadata": {},
   "source": [
    "15. Create a 1D numpy array of 7 elements. Use fancy indexing to extract the first, fourth, and seventh elements."
   ]
  },
  {
   "cell_type": "markdown",
   "id": "42d35d3f",
   "metadata": {},
   "source": [
    "16. Given a 2D numpy array, use fancy indexing to extract all elements that are less than the mean value of the array."
   ]
  },
  {
   "cell_type": "markdown",
   "id": "c78cf86e",
   "metadata": {},
   "source": [
    "17. Create a 1D numpy array of 9 elements. Use fancy indexing to extract all numbers that are odd and less than 15."
   ]
  },
  {
   "cell_type": "markdown",
   "id": "3fc7d6d1",
   "metadata": {},
   "source": [
    "18. Given a 2D numpy array of shape (5, 4), use fancy indexing to extract the first two rows and last two columns."
   ]
  },
  {
   "cell_type": "markdown",
   "id": "3d550eca",
   "metadata": {},
   "source": [
    "19. Create a 1D numpy array of 10 elements. Use fancy indexing to extract all numbers that are greater than the median value of the array."
   ]
  },
  {
   "cell_type": "markdown",
   "id": "42d50202",
   "metadata": {},
   "source": [
    "20. Given a 2D numpy array, use fancy indexing to extract all columns where the maximum value of the column is less than 50."
   ]
  },
  {
   "cell_type": "markdown",
   "id": "b08c05a6",
   "metadata": {},
   "source": [
    "# Solutions"
   ]
  },
  {
   "cell_type": "code",
   "metadata": {},
   "outputs": [],
   "source": [
    "import numpy as np"
   ]
  },
  {
   "cell_type": "code",
   "metadata": {},
   "outputs": [],
   "source": [
    "# Solution to Question 1\n",
    "array_1d = np.random.randint(0, 100, 10)\n",
    "selected_elements = array_1d[[2, 5, 7]]\n",
    "selected_elements"
   ]
  },
  {
   "cell_type": "code",
   "metadata": {},
   "outputs": [],
   "source": [
    "# Solution to Question 2\n",
    "array_2d = np.random.randint(0, 100, (5, 5))\n",
    "diagonal_elements = array_2d[np.arange(5), np.arange(5)]\n",
    "diagonal_elements"
   ]
  },
  {
   "cell_type": "code",
   "metadata": {},
   "outputs": [],
   "source": [
    "# Solution to Question 3\n",
    "array_1d = np.random.randint(0, 100, 20)\n",
    "array_1d[array_1d % 2 == 0] = -1\n",
    "array_1d"
   ]
  },
  {
   "cell_type": "code",
   "metadata": {},
   "outputs": [],
   "source": [
    "# Solution to Question 4\n",
    "array_2d = np.random.randint(0, 100, (5, 5))\n",
    "selected_rows = array_2d[array_2d[:, 0] > 50]\n",
    "selected_rows"
   ]
  },
  {
   "cell_type": "code",
   "metadata": {},
   "outputs": [],
   "source": [
    "# Solution to Question 5\n",
    "array_1d = np.random.randint(0, 100, 15)\n",
    "selected_elements = array_1d[::3]\n",
    "selected_elements"
   ]
  },
  {
   "cell_type": "code",
   "metadata": {},
   "outputs": [],
   "source": [
    "# Solution to Question 6\n",
    "array_2d = np.random.randint(0, 100, (6, 6))\n",
    "selected_columns = array_2d[:, [0, 2, 4]]\n",
    "selected_columns"
   ]
  },
  {
   "cell_type": "code",
   "metadata": {},
   "outputs": [],
   "source": [
    "# Solution to Question 7\n",
    "array_1d = np.random.randint(0, 100, 10)\n",
    "reversed_array = array_1d[::-1]\n",
    "reversed_array"
   ]
  },
  {
   "cell_type": "code",
   "metadata": {},
   "outputs": [],
   "source": [
    "# Solution to Question 8\n",
    "array_2d = np.random.randint(0, 100, (5, 5))\n",
    "selected_elements = array_2d[(array_2d > 30) & (array_2d < 60)]\n",
    "selected_elements"
   ]
  },
  {
   "cell_type": "code",
   "metadata": {},
   "outputs": [],
   "source": [
    "# Solution to Question 9\n",
    "array_1d = np.random.randint(0, 100, 12)\n",
    "prime_numbers = [2, 3, 5, 7, 11, 13, 17, 19, 23, 29, 31, 37, 41, 43, 47, 53, 59, 61, 67, 71, 73, 79, 83, 89, 97]\n",
    "selected_primes = array_1d[np.isin(array_1d, prime_numbers)]\n",
    "selected_primes"
   ]
  },
  {
   "cell_type": "code",
   "metadata": {},
   "outputs": [],
   "source": [
    "# Solution to Question 10\n",
    "array_2d = np.random.randint(0, 100, (4, 4))\n",
    "selected_elements = array_2d[-1, 0]\n",
    "selected_elements"
   ]
  },
  {
   "cell_type": "code",
   "metadata": {},
   "outputs": [],
   "source": [
    "# Solution to Question 11\n",
    "array_1d = np.random.randint(0, 100, 8)\n",
    "selected_elements = array_1d[array_1d % 3 == 0]\n",
    "selected_elements"
   ]
  },
  {
   "cell_type": "code",
   "metadata": {},
   "outputs": [],
   "source": [
    "# Solution to Question 12\n",
    "array_2d = np.random.randint(0, 100, (5, 5))\n",
    "selected_rows = array_2d[np.sum(array_2d, axis=1) > 100]\n",
    "selected_rows"
   ]
  },
  {
   "cell_type": "code",
   "metadata": {},
   "outputs": [],
   "source": [
    "# Solution to Question 13\n",
    "array_1d = np.random.randint(0, 50, 10)\n",
    "selected_elements = array_1d[(array_1d % 2 == 0) & (array_1d > 20)]\n",
    "selected_elements"
   ]
  },
  {
   "cell_type": "code",
   "metadata": {},
   "outputs": [],
   "source": [
    "# Solution to Question 14\n",
    "array_2d = np.random.randint(0, 100, (3, 3))\n",
    "selected_elements = array_2d[1, 1]\n",
    "selected_elements"
   ]
  },
  {
   "cell_type": "code",
   "metadata": {},
   "outputs": [],
   "source": [
    "# Solution to Question 15\n",
    "array_1d = np.random.randint(0, 100, 7)\n",
    "selected_elements = array_1d[[0, 3, 6]]\n",
    "selected_elements"
   ]
  },
  {
   "cell_type": "code",
   "metadata": {},
   "outputs": [],
   "source": [
    "# Solution to Question 16\n",
    "array_2d = np.random.randint(0, 100, (5, 5))\n",
    "selected_elements = array_2d[array_2d < np.mean(array_2d)]\n",
    "selected_elements"
   ]
  },
  {
   "cell_type": "code",
   "metadata": {},
   "outputs": [],
   "source": [
    "# Solution to Question 17\n",
    "array_1d = np.random.randint(0, 100, 9)\n",
    "selected_elements = array_1d[(array_1d % 2 != 0) & (array_1d < 15)]\n",
    "selected_elements"
   ]
  },
  {
   "cell_type": "code",
   "metadata": {},
   "outputs": [],
   "source": [
    "# Solution to Question 18\n",
    "array_2d = np.random.randint(0, 100, (5, 4))\n",
    "selected_elements = array_2d[:2, -2:]\n",
    "selected_elements"
   ]
  },
  {
   "cell_type": "code",
   "metadata": {},
   "outputs": [],
   "source": [
    "# Solution to Question 19\n",
    "array_1d = np.random.randint(0, 100, 10)\n",
    "median_value = np.median(array_1d)\n",
    "selected_elements = array_1d[array_1d > median_value]\n",
    "selected_elements"
   ]
  },
  {
   "cell_type": "code",
   "metadata": {},
   "outputs": [],
   "source": [
    "# Solution to Question 20\n",
    "array_2d = np.random.randint(0, 100, (5, 5))\n",
    "selected_columns = array_2d[:, np.max(array_2d, axis=0) < 50]\n",
    "selected_columns"
   ]
  }
 ],
 "metadata": {
  "kernelspec": {
   "display_name": "Python 3 (ipykernel)",
   "language": "python",
   "name": "python3"
  },
  "language_info": {
   "codemirror_mode": {
    "name": "ipython",
    "version": 3
   },
   "file_extension": ".py",
   "mimetype": "text/x-python",
   "name": "python",
   "nbconvert_exporter": "python",
   "pygments_lexer": "ipython3",
   "version": "3.9.12"
  }
 },
 "nbformat": 4,
 "nbformat_minor": 5
}
