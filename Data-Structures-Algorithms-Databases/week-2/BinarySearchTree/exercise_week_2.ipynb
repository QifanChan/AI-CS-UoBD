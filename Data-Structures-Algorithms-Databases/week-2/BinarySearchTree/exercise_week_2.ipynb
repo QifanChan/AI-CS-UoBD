{
 "cells": [
  {
   "cell_type": "markdown",
   "metadata": {},
   "source": []
  },
  {
   "cell_type": "code",
   "execution_count": null,
   "metadata": {},
   "outputs": [],
   "source": []
  },
  {
   "cell_type": "markdown",
   "metadata": {},
   "source": []
  },
  {
   "cell_type": "code",
   "execution_count": null,
   "metadata": {},
   "outputs": [],
   "source": []
  },
  {
   "cell_type": "markdown",
   "metadata": {},
   "source": []
  },
  {
   "cell_type": "code",
   "execution_count": null,
   "metadata": {},
   "outputs": [],
   "source": []
  },
  {
   "cell_type": "markdown",
   "metadata": {},
   "source": []
  },
  {
   "cell_type": "code",
   "execution_count": null,
   "metadata": {},
   "outputs": [],
   "source": []
  },
  {
   "cell_type": "markdown",
   "metadata": {},
   "source": [
    "Q5. Provide pseudocode to calculate the height of a binary tree."
   ]
  },
  {
   "cell_type": "code",
   "execution_count": null,
   "metadata": {},
   "outputs": [],
   "source": [
    "'''\n",
    "def check_height(tree):\n",
    "    if tree(empty):\n",
    "        return 0\n",
    "    \n",
    "    recursively check the height of the left part of the tree \n",
    "    recursively check the height of the right part of the tree\n",
    "\n",
    "    # if there is only one node, the height will be 1 + 0, which is 1\n",
    "    return 1 + the max height between the left and the right\n",
    "'''"
   ]
  },
  {
   "cell_type": "code",
   "execution_count": 9,
   "metadata": {},
   "outputs": [
    {
     "name": "stdout",
     "output_type": "stream",
     "text": [
      "    __100____  \n",
      "   /         \\ \n",
      "  50_      _300\n",
      " /   \\    /    \n",
      "25  80   200   \n",
      "height: 3\n"
     ]
    }
   ],
   "source": [
    "# Example usage\n",
    "from BST import BST\n",
    "\n",
    "bst = BST()\n",
    "bst.insert(100)\n",
    "bst.insert(50)\n",
    "bst.insert(300)\n",
    "bst.insert(25)\n",
    "bst.insert(80)\n",
    "bst.insert(200)\n",
    "bst.print_tree()\n",
    "height = bst.check_height()\n",
    "print('height:', height)"
   ]
  },
  {
   "cell_type": "markdown",
   "metadata": {},
   "source": [
    "Q6. Provide pseudocode to count the total number of nodes in a binary tree."
   ]
  },
  {
   "cell_type": "code",
   "execution_count": null,
   "metadata": {},
   "outputs": [],
   "source": []
  },
  {
   "cell_type": "markdown",
   "metadata": {},
   "source": [
    "Q7. Provide pseudocode for counting the number of leaf nodes in a binary tree."
   ]
  },
  {
   "cell_type": "markdown",
   "metadata": {},
   "source": [
    "Q8. Given below are the equations for the Insertion algorithm of binary search trees. \n",
    "Fill in the blank.\n",
    "\n",
    "insert(x, NIL) = Fork(x, NIL, NIL) \n",
    "\n",
    "insert(x, Fork(x, l, r)) = Fork(x, l, r) \n",
    "\n",
    "insert(x, Fork(y, l, r)) = Fork(y, insert(x, l), r), if x < y \n",
    "\n",
    "insert(x, Fork(y, l, r)) = ________________________, if x > y "
   ]
  },
  {
   "cell_type": "markdown",
   "metadata": {},
   "source": []
  },
  {
   "cell_type": "markdown",
   "metadata": {},
   "source": []
  },
  {
   "cell_type": "markdown",
   "metadata": {},
   "source": []
  }
 ],
 "metadata": {
  "kernelspec": {
   "display_name": "Python 3",
   "language": "python",
   "name": "python3"
  },
  "language_info": {
   "codemirror_mode": {
    "name": "ipython",
    "version": 3
   },
   "file_extension": ".py",
   "mimetype": "text/x-python",
   "name": "python",
   "nbconvert_exporter": "python",
   "pygments_lexer": "ipython3",
   "version": "3.12.0"
  }
 },
 "nbformat": 4,
 "nbformat_minor": 2
}
