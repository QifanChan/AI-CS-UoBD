{
 "cells": [
  {
   "cell_type": "markdown",
   "metadata": {},
   "source": [
    "Q1. Part A - Suppose you have a sorted list of 128 names, and you’re searching\n",
    "through it using binary search. What’s the maximum number of steps it would\n",
    "take?"
   ]
  },
  {
   "cell_type": "code",
   "execution_count": 4,
   "metadata": {},
   "outputs": [
    {
     "data": {
      "text/plain": [
       "7.0"
      ]
     },
     "execution_count": 4,
     "metadata": {},
     "output_type": "execute_result"
    }
   ],
   "source": [
    "# O(log n) -> log 128 (base 2) -> 7 steps\n",
    "import math\n",
    "\n",
    "names = 128\n",
    "result = math.log2(names)\n",
    "result"
   ]
  },
  {
   "cell_type": "markdown",
   "metadata": {},
   "source": [
    "Q1. Part B - Suppose you double the size of the list. What’s the maximum number\n",
    "of steps now?"
   ]
  },
  {
   "cell_type": "code",
   "execution_count": 5,
   "metadata": {},
   "outputs": [
    {
     "data": {
      "text/plain": [
       "8.0"
      ]
     },
     "execution_count": 5,
     "metadata": {},
     "output_type": "execute_result"
    }
   ],
   "source": [
    "names = 128 * 2\n",
    "result = math.log2(names)\n",
    "result"
   ]
  },
  {
   "cell_type": "markdown",
   "metadata": {},
   "source": [
    "Q2. Give the run time for each of these scenarios in terms of Big O.\n",
    "\n",
    "• Part A- You have a name, and you want to find the person’s phone number in\n",
    "the phone book.\n",
    "\n",
    "• Part B- You have a phone number, and you want to find the person’s name in\n",
    "the phone book. (Hint: You’ll have to search through the whole book\n",
    "\n",
    "• Part C- You want to read the numbers of every person in the phone book."
   ]
  },
  {
   "cell_type": "markdown",
   "metadata": {},
   "source": [
    "A -> O(logn)\n",
    "\n",
    "B -> O(n)\n",
    "\n",
    "C -> O(n)"
   ]
  },
  {
   "cell_type": "markdown",
   "metadata": {},
   "source": [
    "Q3. Given a list of n numbers, create a straightforward python function has_duplicates\n",
    "to determine if there are any duplicate elements in the array. Additionally, calculate the\n",
    "time and space complexity for the worst-case scenario of your function."
   ]
  },
  {
   "cell_type": "code",
   "execution_count": 6,
   "metadata": {},
   "outputs": [
    {
     "name": "stdout",
     "output_type": "stream",
     "text": [
      "True\n",
      "False\n"
     ]
    }
   ],
   "source": [
    "'''\n",
    "If ignore the sort function, this is a linear search\n",
    "Time complexity: O(n)\n",
    "Space complexity: O(n)\n",
    "\n",
    "else\n",
    "Time complexity: O(n log n)\n",
    "Space complexity: O(log n)\n",
    "'''\n",
    "\n",
    "def has_duplicates(nums: list[int]):\n",
    "    if len(nums) == 1:\n",
    "        return False\n",
    "    \n",
    "    nums.sort()\n",
    "    for i in range(len(nums)-2):\n",
    "        if nums[i] == nums[i+1]:\n",
    "            return True\n",
    "    return False\n",
    "\n",
    "arr = [1, 3, 2, 2]\n",
    "result = has_duplicates(arr)\n",
    "print(result)\n",
    "\n",
    "arr = [1, 2, 3, 5]\n",
    "result = has_duplicates(arr)\n",
    "print(result)"
   ]
  },
  {
   "cell_type": "markdown",
   "metadata": {},
   "source": [
    "Q4. Consider the following factorial program and let the input size be the value of n that\n",
    "is read. Counting one time unit for each assignment, read, and write statement, and\n",
    "one unit each time the condition of the while-statement is tested, compute the running\n",
    "time of the program"
   ]
  },
  {
   "cell_type": "code",
   "execution_count": 10,
   "metadata": {},
   "outputs": [
    {
     "name": "stdout",
     "output_type": "stream",
     "text": [
      "CPU times: user 2 µs, sys: 0 ns, total: 2 µs\n",
      "Wall time: 5.01 µs\n",
      "24\n"
     ]
    }
   ],
   "source": [
    "%time\n",
    "n = int(input(\"Enter a number: \")) # O(1)\n",
    "i = 2 # O(1)\n",
    "fact = 1 # O(1)\n",
    "while i <= n: # O(n)\n",
    "    fact *= i\n",
    "    i += 1\n",
    "print(fact) # O(1)"
   ]
  },
  {
   "cell_type": "markdown",
   "metadata": {},
   "source": [
    "Q5. What rule or criterion can be established to assess the overall time complexity of\n",
    "the selection statement, considering the functions f(n) and g(n) and the condition within\n",
    "the if statement?"
   ]
  },
  {
   "cell_type": "code",
   "execution_count": null,
   "metadata": {},
   "outputs": [],
   "source": []
  },
  {
   "cell_type": "markdown",
   "metadata": {},
   "source": [
    "Q6. \n",
    "\n",
    "• How can we express the number of iterations in a for-loop with the header\n",
    "for i in range(a, b+1) in terms of the initial value 'a' and the final value 'b'?\n",
    "\n",
    "• How can we express the number of iterations in for i in range(a, b-1, -1) in\n",
    "terms of the initial value 'a' and the final value 'b'?"
   ]
  },
  {
   "cell_type": "code",
   "execution_count": null,
   "metadata": {},
   "outputs": [],
   "source": []
  },
  {
   "cell_type": "markdown",
   "metadata": {},
   "source": [
    "Q7. In the context of Python, provide a big-O upper bound on the running time of the\n",
    "straightforward selection statement:"
   ]
  },
  {
   "cell_type": "code",
   "execution_count": null,
   "metadata": {},
   "outputs": [],
   "source": [
    "while C:\n",
    "# Empty body"
   ]
  }
 ],
 "metadata": {
  "kernelspec": {
   "display_name": "Python 3",
   "language": "python",
   "name": "python3"
  },
  "language_info": {
   "codemirror_mode": {
    "name": "ipython",
    "version": 3
   },
   "file_extension": ".py",
   "mimetype": "text/x-python",
   "name": "python",
   "nbconvert_exporter": "python",
   "pygments_lexer": "ipython3",
   "version": "3.12.0"
  }
 },
 "nbformat": 4,
 "nbformat_minor": 2
}
