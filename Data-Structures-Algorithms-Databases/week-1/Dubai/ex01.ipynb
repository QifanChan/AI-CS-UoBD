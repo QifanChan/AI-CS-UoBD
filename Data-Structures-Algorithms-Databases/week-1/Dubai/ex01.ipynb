{
 "cells": [
  {
   "cell_type": "markdown",
   "metadata": {},
   "source": [
    "Q1. Part A - Suppose you have a sorted list of 128 names, and you’re searching\n",
    "through it using binary search. What’s the maximum number of steps it would\n",
    "take?"
   ]
  },
  {
   "cell_type": "code",
   "execution_count": 4,
   "metadata": {},
   "outputs": [
    {
     "data": {
      "text/plain": [
       "7.0"
      ]
     },
     "execution_count": 4,
     "metadata": {},
     "output_type": "execute_result"
    }
   ],
   "source": [
    "# O(log n) -> log 128 (base 2) -> 7 steps\n",
    "import math\n",
    "\n",
    "names = 128\n",
    "result = math.log2(names)\n",
    "result"
   ]
  },
  {
   "cell_type": "markdown",
   "metadata": {},
   "source": [
    "Q1. Part B - Suppose you double the size of the list. What’s the maximum number\n",
    "of steps now?"
   ]
  },
  {
   "cell_type": "code",
   "execution_count": 5,
   "metadata": {},
   "outputs": [
    {
     "data": {
      "text/plain": [
       "8.0"
      ]
     },
     "execution_count": 5,
     "metadata": {},
     "output_type": "execute_result"
    }
   ],
   "source": [
    "names = 128 * 2\n",
    "result = math.log2(names)\n",
    "result"
   ]
  },
  {
   "cell_type": "markdown",
   "metadata": {},
   "source": [
    "Q2. Give the run time for each of these scenarios in terms of Big O.\n",
    "\n",
    "• Part A- You have a name, and you want to find the person’s phone number in\n",
    "the phone book.\n",
    "\n",
    "• Part B- You have a phone number, and you want to find the person’s name in\n",
    "the phone book. (Hint: You’ll have to search through the whole book\n",
    "\n",
    "• Part C- You want to read the numbers of every person in the phone book."
   ]
  },
  {
   "cell_type": "markdown",
   "metadata": {},
   "source": [
    "A -> O(logn)\n",
    "\n",
    "B -> O(n)\n",
    "\n",
    "C -> O(n)"
   ]
  },
  {
   "cell_type": "markdown",
   "metadata": {},
   "source": [
    "Q3. Given a list of n numbers, create a straightforward python function has_duplicates\n",
    "to determine if there are any duplicate elements in the array. Additionally, calculate the\n",
    "time and space complexity for the worst-case scenario of your function."
   ]
  },
  {
   "cell_type": "code",
   "execution_count": 6,
   "metadata": {},
   "outputs": [
    {
     "name": "stdout",
     "output_type": "stream",
     "text": [
      "True\n",
      "False\n"
     ]
    }
   ],
   "source": [
    "'''\n",
    "Time complexity: O(n^2)\n",
    "'''\n",
    "def has_duplicates(nums):\n",
    "    seen_elements = []\n",
    "    for num in nums: # O(n)\n",
    "        if num in seen_elements: # O(n)\n",
    "            return True\n",
    "        seen_elements.append(num)\n",
    "    return False\n",
    "\n",
    "arr = [1, 3, 2, 2]\n",
    "result = has_duplicates(arr)\n",
    "print(result)\n",
    "\n",
    "arr = [1, 2, 3, 5]\n",
    "result = has_duplicates(arr)\n",
    "print(result)"
   ]
  },
  {
   "cell_type": "markdown",
   "metadata": {},
   "source": [
    "Q4. Consider the following factorial program and let the input size be the value of n that\n",
    "is read. Counting one time unit for each assignment, read, and write statement, and\n",
    "one unit each time the condition of the while-statement is tested, compute the running\n",
    "time of the program"
   ]
  },
  {
   "cell_type": "code",
   "execution_count": 10,
   "metadata": {},
   "outputs": [
    {
     "name": "stdout",
     "output_type": "stream",
     "text": [
      "CPU times: user 2 µs, sys: 0 ns, total: 2 µs\n",
      "Wall time: 5.01 µs\n",
      "24\n"
     ]
    }
   ],
   "source": [
    "%time\n",
    "n = int(input(\"Enter a number: \")) # O(1)\n",
    "i = 2 # O(1)\n",
    "fact = 1 # O(1)\n",
    "while i <= n: # O(n)\n",
    "    fact *= i\n",
    "    i += 1\n",
    "print(fact) # O(1)\n",
    "print(\"Time complexity: O(n)\")"
   ]
  },
  {
   "cell_type": "markdown",
   "metadata": {},
   "source": [
    "Q5. What rule or criterion can be established to assess the overall time complexity of\n",
    "the selection statement, considering the functions f(n) and g(n) and the condition within\n",
    "the if statement?"
   ]
  },
  {
   "cell_type": "code",
   "execution_count": null,
   "metadata": {},
   "outputs": [],
   "source": [
    "'''\n",
    "if 1 == 2:\n",
    "    # something with O(n) complexity\n",
    "else:\n",
    "    # something with O(g(n)) complexity\n",
    "'''\n",
    "    \n",
    "'''\n",
    "Becuase the 1 == 2 is always false, so only the else block will be executed\n",
    "hence the time complexity is O(g(n))\n",
    "'''\n"
   ]
  },
  {
   "cell_type": "markdown",
   "metadata": {},
   "source": [
    "Q6. \n",
    "\n",
    "• How can we express the number of iterations in a for-loop with the header\n",
    "for i in range(a, b+1) in terms of the initial value 'a' and the final value 'b'?"
   ]
  },
  {
   "cell_type": "code",
   "execution_count": 3,
   "metadata": {},
   "outputs": [
    {
     "name": "stdout",
     "output_type": "stream",
     "text": [
      "1\n",
      "2\n",
      "3\n",
      "4\n",
      "5\n",
      "6\n",
      "7\n",
      "8\n",
      "9\n",
      "10\n",
      "Number of iterations:  10\n"
     ]
    }
   ],
   "source": [
    "#for i in range(a, b+1):\n",
    "    # range function\n",
    "    # starts from a, ends at b, b+1 is exclusive\n",
    "    # number of iterations in this for loop: (b+1-1)-a = b - a\n",
    "\n",
    "a = 1\n",
    "b = 10 + 1\n",
    "for i in range(a, b):\n",
    "    print(i)\n",
    "print(\"Number of iterations: \", b - a)"
   ]
  },
  {
   "cell_type": "markdown",
   "metadata": {},
   "source": [
    "\n",
    "• How can we express the number of iterations in for i in range(a, b-1, -1) in\n",
    "terms of the initial value 'a' and the final value 'b'?"
   ]
  },
  {
   "cell_type": "code",
   "execution_count": 5,
   "metadata": {},
   "outputs": [
    {
     "name": "stdout",
     "output_type": "stream",
     "text": [
      "10\n",
      "9\n",
      "8\n",
      "7\n",
      "6\n",
      "5\n",
      "4\n",
      "3\n",
      "2\n",
      "1\n",
      "Number of iterations:  10\n"
     ]
    }
   ],
   "source": [
    "a = 10\n",
    "b = 1\n",
    "# b - 1 = 0\n",
    "for i in range(a, b - 1, -1):\n",
    "    print(i)\n",
    "print(\"Number of iterations: \", a - (b - 1))"
   ]
  },
  {
   "cell_type": "markdown",
   "metadata": {},
   "source": [
    "Q7. In the context of Python, provide a big-O upper bound on the running time of the\n",
    "straightforward selection statement:"
   ]
  },
  {
   "cell_type": "code",
   "execution_count": null,
   "metadata": {},
   "outputs": [],
   "source": [
    "'''\n",
    "while C:\n",
    "# Empty body\n",
    "    \n",
    "If the condition 'C' evaluates to false, the running time of the while-loop is O(1).\n",
    "In the case where the condition is true, the while-loop executes indefinitely, and the\n",
    "running time is undefined.\n",
    "'''"
   ]
  }
 ],
 "metadata": {
  "kernelspec": {
   "display_name": "Python 3",
   "language": "python",
   "name": "python3"
  },
  "language_info": {
   "codemirror_mode": {
    "name": "ipython",
    "version": 3
   },
   "file_extension": ".py",
   "mimetype": "text/x-python",
   "name": "python",
   "nbconvert_exporter": "python",
   "pygments_lexer": "ipython3",
   "version": "3.12.0"
  }
 },
 "nbformat": 4,
 "nbformat_minor": 2
}
